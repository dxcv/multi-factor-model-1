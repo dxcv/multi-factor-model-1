{
 "cells": [
  {
   "cell_type": "code",
   "execution_count": 1,
   "metadata": {
    "collapsed": true
   },
   "outputs": [],
   "source": [
    "import os\n",
    "import xlrd\n",
    "from scipy import stats\n",
    "import matplotlib.pyplot as plt\n",
    "import numpy as np\n",
    "import pandas as pd\n",
    "import math\n",
    "import datetime as dt\n",
    "import copy\n",
    "import statsmodels.api as sm\n",
    "import matplotlib.dates as mdate\n",
    "import scipy.optimize as spo\n",
    "from scipy.stats import norm"
   ]
  },
  {
   "cell_type": "code",
   "execution_count": 2,
   "metadata": {
    "collapsed": true
   },
   "outputs": [],
   "source": [
    "file='C:\\\\Users\\\\wuboyuan\\\\Desktop\\\\data\\\\9500.csv'"
   ]
  },
  {
   "cell_type": "code",
   "execution_count": 3,
   "metadata": {
    "collapsed": false
   },
   "outputs": [],
   "source": [
    "data=pd.read_csv(file,parse_dates=True,index_col=0)\n",
    "w=copy.deepcopy(data)"
   ]
  },
  {
   "cell_type": "code",
   "execution_count": 4,
   "metadata": {
    "collapsed": false
   },
   "outputs": [],
   "source": [
    "wu=data.rolling(center=False,window=10).mean()"
   ]
  },
  {
   "cell_type": "code",
   "execution_count": 5,
   "metadata": {
    "collapsed": false,
    "scrolled": false
   },
   "outputs": [],
   "source": [
    "v=wu.T.values[0]\n",
    "i=wu.index\n",
    "wu0=pd.DataFrame({'均线':v},index=i)"
   ]
  },
  {
   "cell_type": "code",
   "execution_count": 6,
   "metadata": {
    "collapsed": false
   },
   "outputs": [
    {
     "data": {
      "text/plain": [
       "array([      nan,       nan,       nan, ...,  3248.455,  3246.961,\n",
       "        3247.547])"
      ]
     },
     "execution_count": 6,
     "metadata": {},
     "output_type": "execute_result"
    }
   ],
   "source": [
    "v"
   ]
  },
  {
   "cell_type": "code",
   "execution_count": 7,
   "metadata": {
    "collapsed": false
   },
   "outputs": [],
   "source": [
    "w['均线']=v"
   ]
  },
  {
   "cell_type": "code",
   "execution_count": null,
   "metadata": {
    "collapsed": true
   },
   "outputs": [],
   "source": []
  },
  {
   "cell_type": "code",
   "execution_count": 8,
   "metadata": {
    "collapsed": true
   },
   "outputs": [],
   "source": [
    "def ema(data,n):\n",
    "    y=copy.deepcopy(data)\n",
    "    y[0:n-1].T.values[0]=np.zeros(n-1)\n",
    "    y[n-1:n]=data[0:n].mean().values[0]\n",
    "    for i in range(len(data)-n):\n",
    "        y[i+n:i+n+1]=2/(n+1)*data[i+n:i+n+1].values[0][0]+(1-2/(n+1))*y[i+n-1:i+n].values[0][0]\n",
    "    return y"
   ]
  },
  {
   "cell_type": "code",
   "execution_count": 9,
   "metadata": {
    "collapsed": false
   },
   "outputs": [],
   "source": [
    "y=copy.deepcopy(data)\n",
    "y[0:11].T.values[0]=np.zeros(11)\n",
    "y[11:12]=data[0:12].mean().values[0]\n",
    "for i in range(len(data)-12):\n",
    "    y[i+12:i+13]=2/13*data[i+12:i+13].values[0][0]+(1-2/13)*y[i+11:i+12].values[0][0]"
   ]
  },
  {
   "cell_type": "code",
   "execution_count": 10,
   "metadata": {
    "collapsed": false
   },
   "outputs": [],
   "source": [
    "ema12=ema(data,12)\n",
    "ema26=ema(data,26)"
   ]
  },
  {
   "cell_type": "code",
   "execution_count": 11,
   "metadata": {
    "collapsed": false
   },
   "outputs": [],
   "source": [
    "diff=ema12-ema26"
   ]
  },
  {
   "cell_type": "code",
   "execution_count": 12,
   "metadata": {
    "collapsed": false
   },
   "outputs": [],
   "source": [
    "dea=ema(diff[26:],9)"
   ]
  },
  {
   "cell_type": "code",
   "execution_count": 13,
   "metadata": {
    "collapsed": false
   },
   "outputs": [],
   "source": [
    "macd=diff-dea"
   ]
  },
  {
   "cell_type": "code",
   "execution_count": 14,
   "metadata": {
    "collapsed": false
   },
   "outputs": [],
   "source": [
    "w['macd']=macd"
   ]
  },
  {
   "cell_type": "code",
   "execution_count": 15,
   "metadata": {
    "collapsed": false
   },
   "outputs": [],
   "source": [
    "rdata=w[100:]"
   ]
  },
  {
   "cell_type": "code",
   "execution_count": 16,
   "metadata": {
    "collapsed": false,
    "scrolled": true
   },
   "outputs": [
    {
     "name": "stderr",
     "output_type": "stream",
     "text": [
      "C:\\Users\\wuboyuan\\AppData\\Local\\Continuum\\Anaconda3\\lib\\site-packages\\ipykernel\\__main__.py:1: SettingWithCopyWarning: \n",
      "A value is trying to be set on a copy of a slice from a DataFrame.\n",
      "Try using .loc[row_indexer,col_indexer] = value instead\n",
      "\n",
      "See the caveats in the documentation: http://pandas.pydata.org/pandas-docs/stable/indexing.html#indexing-view-versus-copy\n",
      "  if __name__ == '__main__':\n"
     ]
    }
   ],
   "source": [
    "rdata['收盘']=rdata['    收盘'].values"
   ]
  },
  {
   "cell_type": "code",
   "execution_count": 17,
   "metadata": {
    "collapsed": false,
    "scrolled": true
   },
   "outputs": [],
   "source": [
    "del rdata['    收盘']"
   ]
  },
  {
   "cell_type": "code",
   "execution_count": 18,
   "metadata": {
    "collapsed": false
   },
   "outputs": [
    {
     "data": {
      "text/plain": [
       "array([ 1915.114,  1918.888,  1922.768, ...,  3248.455,  3246.961,\n",
       "        3247.547])"
      ]
     },
     "execution_count": 18,
     "metadata": {},
     "output_type": "execute_result"
    }
   ],
   "source": [
    "rdata[rdata.T.index[0]].values"
   ]
  },
  {
   "cell_type": "code",
   "execution_count": 19,
   "metadata": {
    "collapsed": false
   },
   "outputs": [],
   "source": [
    "cx=rdata['收盘']-rdata['均线']"
   ]
  },
  {
   "cell_type": "code",
   "execution_count": 20,
   "metadata": {
    "collapsed": false
   },
   "outputs": [],
   "source": [
    "cx[cx>0]=1\n",
    "cx[cx<0]=0"
   ]
  },
  {
   "cell_type": "code",
   "execution_count": 21,
   "metadata": {
    "collapsed": false
   },
   "outputs": [],
   "source": [
    "cxd=cx.diff(1)#.plot(kind='bar')\n",
    "#plt.show()"
   ]
  },
  {
   "cell_type": "code",
   "execution_count": 22,
   "metadata": {
    "collapsed": true
   },
   "outputs": [
    {
     "data": {
      "text/plain": [
       "      时间\n",
       "2000-06-13    NaN\n",
       "2000-06-14    0.0\n",
       "2000-06-15    0.0\n",
       "2000-06-16    0.0\n",
       "2000-06-19   -1.0\n",
       "2000-06-20    0.0\n",
       "2000-06-21    0.0\n",
       "2000-06-22    0.0\n",
       "2000-06-23    1.0\n",
       "2000-06-26    0.0\n",
       "2000-06-27    0.0\n",
       "2000-06-28    0.0\n",
       "2000-06-29    0.0\n",
       "2000-06-30   -1.0\n",
       "2000-07-03    0.0\n",
       "2000-07-04    0.0\n",
       "2000-07-05    0.0\n",
       "2000-07-06    0.0\n",
       "2000-07-07    1.0\n",
       "2000-07-10    0.0\n",
       "2000-07-11    0.0\n",
       "2000-07-12    0.0\n",
       "2000-07-13    0.0\n",
       "2000-07-14    0.0\n",
       "2000-07-17    0.0\n",
       "2000-07-18    0.0\n",
       "2000-07-19    0.0\n",
       "2000-07-20    0.0\n",
       "2000-07-21    0.0\n",
       "2000-07-24    0.0\n",
       "             ... \n",
       "2000-09-19    0.0\n",
       "2000-09-20    0.0\n",
       "2000-09-21    0.0\n",
       "2000-09-22    0.0\n",
       "2000-09-25    0.0\n",
       "2000-09-26    0.0\n",
       "2000-09-27    0.0\n",
       "2000-09-28    0.0\n",
       "2000-09-29    1.0\n",
       "2000-10-09    0.0\n",
       "2000-10-10    0.0\n",
       "2000-10-11    0.0\n",
       "2000-10-12    0.0\n",
       "2000-10-13    0.0\n",
       "2000-10-16   -1.0\n",
       "2000-10-17    0.0\n",
       "2000-10-18    1.0\n",
       "2000-10-19   -1.0\n",
       "2000-10-20    1.0\n",
       "2000-10-23    0.0\n",
       "2000-10-24    0.0\n",
       "2000-10-25    0.0\n",
       "2000-10-26    0.0\n",
       "2000-10-27    0.0\n",
       "2000-10-30    0.0\n",
       "2000-10-31    0.0\n",
       "2000-11-01    0.0\n",
       "2000-11-02    0.0\n",
       "2000-11-03    0.0\n",
       "2000-11-06    0.0\n",
       "dtype: float64"
      ]
     },
     "execution_count": 22,
     "metadata": {},
     "output_type": "execute_result"
    }
   ],
   "source": [
    "cxd[0:100]"
   ]
  },
  {
   "cell_type": "code",
   "execution_count": 23,
   "metadata": {
    "collapsed": false
   },
   "outputs": [],
   "source": [
    "inde=cxd[cxd!=0].dropna().index"
   ]
  },
  {
   "cell_type": "code",
   "execution_count": 24,
   "metadata": {
    "collapsed": false
   },
   "outputs": [
    {
     "data": {
      "text/plain": [
       "5"
      ]
     },
     "execution_count": 24,
     "metadata": {},
     "output_type": "execute_result"
    }
   ],
   "source": [
    "cxd[inde[0]:inde[1]].count()"
   ]
  },
  {
   "cell_type": "code",
   "execution_count": 25,
   "metadata": {
    "collapsed": true
   },
   "outputs": [],
   "source": [
    "u=copy.deepcopy(cxd)"
   ]
  },
  {
   "cell_type": "code",
   "execution_count": 26,
   "metadata": {
    "collapsed": false
   },
   "outputs": [
    {
     "data": {
      "text/plain": [
       "      时间\n",
       "2000-06-19   -1.0\n",
       "2000-06-20    0.0\n",
       "2000-06-21    0.0\n",
       "2000-06-22    0.0\n",
       "2000-06-23    1.0\n",
       "dtype: float64"
      ]
     },
     "execution_count": 26,
     "metadata": {},
     "output_type": "execute_result"
    }
   ],
   "source": [
    "cxd[inde[0]:inde[1]]"
   ]
  },
  {
   "cell_type": "code",
   "execution_count": 27,
   "metadata": {
    "collapsed": false
   },
   "outputs": [],
   "source": [
    "for i in range(len(inde)-1):\n",
    "    ct=cxd[inde[i]:inde[i+1]].count()\n",
    "    if ct<4:\n",
    "        u[inde[i]:inde[i]]=0\n",
    "        u[inde[i+1]:inde[i+1]]=0\n",
    "    else:\n",
    "        u[inde[i]:inde[i]]=cxd[inde[i]:inde[i]]"
   ]
  },
  {
   "cell_type": "code",
   "execution_count": 28,
   "metadata": {
    "collapsed": false,
    "scrolled": true
   },
   "outputs": [],
   "source": [
    "co=u[u!=0].index"
   ]
  },
  {
   "cell_type": "code",
   "execution_count": 29,
   "metadata": {
    "collapsed": true
   },
   "outputs": [
    {
     "data": {
      "text/plain": [
       "      时间\n",
       "2016-10-10    1.0\n",
       "2016-10-11    0.0\n",
       "2016-10-12    0.0\n",
       "2016-10-13    0.0\n",
       "2016-10-14    0.0\n",
       "2016-10-17    0.0\n",
       "2016-10-18    0.0\n",
       "2016-10-19    0.0\n",
       "2016-10-20    0.0\n",
       "2016-10-21    0.0\n",
       "2016-10-24    0.0\n",
       "2016-10-25    0.0\n",
       "2016-10-26    0.0\n",
       "2016-10-27    0.0\n",
       "2016-10-28    0.0\n",
       "2016-10-31   -1.0\n",
       "2016-11-01    1.0\n",
       "2016-11-02   -1.0\n",
       "2016-11-03    1.0\n",
       "2016-11-04    0.0\n",
       "dtype: float64"
      ]
     },
     "execution_count": 29,
     "metadata": {},
     "output_type": "execute_result"
    }
   ],
   "source": [
    "cxd['2016-10-1':'2016-11-6']"
   ]
  },
  {
   "cell_type": "code",
   "execution_count": 30,
   "metadata": {
    "collapsed": true
   },
   "outputs": [],
   "source": [
    "z=copy.deepcopy(u)"
   ]
  },
  {
   "cell_type": "code",
   "execution_count": 31,
   "metadata": {
    "collapsed": false
   },
   "outputs": [],
   "source": [
    "for i in range(len(co)-2):\n",
    "    if z[co[i+1]:co[i+1]].values[0]==z[co[i+2]:co[i+2]].values[0]:\n",
    "          u[co[i+2]:co[i+2]].values[0]=0"
   ]
  },
  {
   "cell_type": "code",
   "execution_count": 32,
   "metadata": {
    "collapsed": false,
    "scrolled": true
   },
   "outputs": [],
   "source": [
    "d_index=u[u!=0].dropna().index"
   ]
  },
  {
   "cell_type": "code",
   "execution_count": 33,
   "metadata": {
    "collapsed": false
   },
   "outputs": [
    {
     "name": "stdout",
     "output_type": "stream",
     "text": [
      "43\n",
      "148\n",
      "186\n"
     ]
    }
   ],
   "source": [
    "dic=list([0])\n",
    "for i in range(len(d_index)-1):\n",
    "    eve=rdata['macd'][d_index[i]:d_index[i+1]].diff(1)\n",
    "    eve[eve<0]=0\n",
    "    eve[eve>0]=1\n",
    "    zz=eve.diff(1).dropna()\n",
    "    f_index=zz[zz!=0].index\n",
    "    if len(f_index)==0:\n",
    "        print(i)\n",
    "        dic.append(str(d_index[i+1]))\n",
    "    else:\n",
    "        l_index=str(f_index[len(f_index)-1])\n",
    "        dic.append(l_index)\n",
    "del dic[0]"
   ]
  },
  {
   "cell_type": "code",
   "execution_count": 34,
   "metadata": {
    "collapsed": true
   },
   "outputs": [],
   "source": [
    "l_dic=copy.deepcopy(dic)"
   ]
  },
  {
   "cell_type": "code",
   "execution_count": 35,
   "metadata": {
    "collapsed": false
   },
   "outputs": [],
   "source": [
    "for i in range(len(dic)-1):\n",
    "    mi=data[dic[i]:dic[i+1]].index\n",
    "    l_dic[i+1]=str(mi[len(mi)-2])"
   ]
  },
  {
   "cell_type": "code",
   "execution_count": 36,
   "metadata": {
    "collapsed": false
   },
   "outputs": [],
   "source": [
    "result=pd.DataFrame({'开始日期':l_dic[0:len(dic)-1],'结束日期':l_dic[1:]})"
   ]
  },
  {
   "cell_type": "code",
   "execution_count": 37,
   "metadata": {
    "collapsed": false
   },
   "outputs": [],
   "source": [
    "knum=np.zeros(len(l_dic)-1)\n",
    "snum=np.zeros(len(l_dic)-1)\n",
    "for i in range(len(l_dic)-1):\n",
    "    knum[i]=data[l_dic[i]:l_dic[i+1]].count()-1\n",
    "    snum[i]=data[l_dic[i+1]:l_dic[i+1]].values[0][0]/data[l_dic[i]:l_dic[i]].values[0][0]-1"
   ]
  },
  {
   "cell_type": "code",
   "execution_count": 38,
   "metadata": {
    "collapsed": false
   },
   "outputs": [
    {
     "data": {
      "text/plain": [
       "-0.013605921100962259"
      ]
     },
     "execution_count": 38,
     "metadata": {},
     "output_type": "execute_result"
    }
   ],
   "source": [
    "data[l_dic[i+1]:l_dic[i+1]].values[0][0]/data[l_dic[i]:l_dic[i]].values[0][0]-1"
   ]
  },
  {
   "cell_type": "code",
   "execution_count": 39,
   "metadata": {
    "collapsed": false
   },
   "outputs": [],
   "source": [
    "result['K线个数']=knum"
   ]
  },
  {
   "cell_type": "code",
   "execution_count": 40,
   "metadata": {
    "collapsed": true
   },
   "outputs": [],
   "source": [
    "result['涨跌']=snum"
   ]
  },
  {
   "cell_type": "code",
   "execution_count": 41,
   "metadata": {
    "collapsed": false
   },
   "outputs": [],
   "source": [
    "result=result[1:]"
   ]
  },
  {
   "cell_type": "code",
   "execution_count": 42,
   "metadata": {
    "collapsed": false
   },
   "outputs": [],
   "source": [
    "import csv\n",
    "with open('C:\\\\Users\\\\wuboyuan\\\\Desktop\\\\data\\\\mudata\\\\kk.csv', 'w') as f:\n",
    "    #f.write(codecs.BOM_UTF8)\n",
    "    writer = csv.writer(f,lineterminator='\\n')\n",
    "    writer.writerow(result.T.index)\n",
    "    writer.writerows(result.values)"
   ]
  },
  {
   "cell_type": "code",
   "execution_count": 47,
   "metadata": {
    "collapsed": false
   },
   "outputs": [],
   "source": [
    "import seaborn as sns"
   ]
  },
  {
   "cell_type": "code",
   "execution_count": 50,
   "metadata": {
    "collapsed": false
   },
   "outputs": [
    {
     "name": "stderr",
     "output_type": "stream",
     "text": [
      "C:\\Users\\wuboyuan\\AppData\\Local\\Continuum\\Anaconda3\\lib\\site-packages\\statsmodels\\nonparametric\\kdetools.py:20: VisibleDeprecationWarning: using a non-integer number instead of an integer will result in an error in the future\n",
      "  y = X[:m/2+1] + np.r_[0,X[m/2+1:],0]*1j\n"
     ]
    },
    {
     "data": {
      "image/png": "[encoded data removed]",
      "text/plain": [
       "<matplotlib.figure.Figure at 0x1a7ebf36048>"
      ]
     },
     "metadata": {},
     "output_type": "display_data"
    }
   ],
   "source": [
    "sns.kdeplot(snum,shade=True)\n",
    "plt.show()"
   ]
  },
  {
   "cell_type": "code",
   "execution_count": 51,
   "metadata": {
    "collapsed": false
   },
   "outputs": [
    {
     "name": "stderr",
     "output_type": "stream",
     "text": [
      "C:\\Users\\wuboyuan\\AppData\\Local\\Continuum\\Anaconda3\\lib\\site-packages\\statsmodels\\nonparametric\\kdetools.py:20: VisibleDeprecationWarning: using a non-integer number instead of an integer will result in an error in the future\n",
      "  y = X[:m/2+1] + np.r_[0,X[m/2+1:],0]*1j\n"
     ]
    },
    {
     "data": {
      "image/png": "[encoded data removed]",
      "text/plain": [
       "<matplotlib.figure.Figure at 0x1a7ec52cf98>"
      ]
     },
     "metadata": {},
     "output_type": "display_data"
    }
   ],
   "source": [
    "sns.kdeplot(knum,shade=True)\n",
    "plt.show()"
   ]
  },
  {
   "cell_type": "code",
   "execution_count": null,
   "metadata": {
    "collapsed": true
   },
   "outputs": [],
   "source": []
  }
 ],
 "metadata": {
  "kernelspec": {
   "display_name": "Python [conda root]",
   "language": "python",
   "name": "conda-root-py"
  },
  "language_info": {
   "codemirror_mode": {
    "name": "ipython",
    "version": 3
   },
   "file_extension": ".py",
   "mimetype": "text/x-python",
   "name": "python",
   "nbconvert_exporter": "python",
   "pygments_lexer": "ipython3",
   "version": "3.5.2"
  }
 },
 "nbformat": 4,
 "nbformat_minor": 2
}
