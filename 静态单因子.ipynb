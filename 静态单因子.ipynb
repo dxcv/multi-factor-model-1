{
 "cells": [
  {
   "cell_type": "code",
   "execution_count": 21,
   "metadata": {
    "collapsed": true
   },
   "outputs": [],
   "source": [
    "import os\n",
    "import xlrd\n",
    "from scipy import stats\n",
    "import matplotlib.pyplot as plt\n",
    "import numpy as np\n",
    "import pandas as pd\n",
    "import math\n",
    "import datetime as dt\n",
    "import copy\n",
    "import matplotlib.dates as mdate\n",
    "import scipy.optimize as spo\n",
    "from scipy.stats import norm\n",
    "import statsmodels.api as sm"
   ]
  },
  {
   "cell_type": "code",
   "execution_count": 22,
   "metadata": {
    "collapsed": true
   },
   "outputs": [],
   "source": [
    "def medianpeak(x):\n",
    "    y=np.copy(x)\n",
    "    ymedian=np.median(y)\n",
    "    zmid=np.median(np.abs(y-np.median(y)))\n",
    "    y[y<=ymedian-5.2*zmid]=(ymedian-5.2*zmid)\n",
    "    y[y>=ymedian+5.2*zmid]=(ymedian+5.2*zmid)\n",
    "    return y\n",
    "def nondimensionalize(x):\n",
    "    y=np.copy(x)\n",
    "    ymean=np.mean(y)\n",
    "    ystd=np.std(y)\n",
    "    y=(y-ymean)/ystd\n",
    "    return y\n",
    "def dadjust(data):\n",
    "    data0=copy.deepcopy(data)\n",
    "    index1=data0.index.to_period(freq=frequency).values\n",
    "    fre=np.unique(index1)\n",
    "    data0.index=index1\n",
    "    data0.index=data0.index.to_series().astype(str).values\n",
    "    return data0"
   ]
  },
  {
   "cell_type": "code",
   "execution_count": 23,
   "metadata": {
    "collapsed": false
   },
   "outputs": [],
   "source": [
    "frequency='W'\n",
    "gronum=100\n",
    "path='C:\\\\Users\\\\wuboyuan\\\\Desktop\\\\data\\\\xyz2\\\\'"
   ]
  },
  {
   "cell_type": "code",
   "execution_count": 4,
   "metadata": {
    "collapsed": false
   },
   "outputs": [],
   "source": [
    "trdayfile='C:\\\\Users\\\\wuboyuan\\\\Desktop\\\\data\\\\mudata\\\\tradeday.csv'\n",
    "stfile='C:\\\\Users\\\\wuboyuan\\\\Desktop\\\\data\\\\mudata\\\\ST.csv'\n",
    "stand9500='C:\\\\Users\\\\wuboyuan\\\\Desktop\\\\data\\\\mudata\\\\stand.csv'\n",
    "closep='C:\\\\Users\\\\wuboyuan\\\\Desktop\\\\data\\\\mudata\\\\closeprice.csv'\n",
    "mvalue0='C:\\\\Users\\\\wuboyuan\\\\Desktop\\\\data\\\\mudata\\\\marketvalue.csv'\n",
    "yiziban0='C:\\\\Users\\\\wuboyuan\\\\Desktop\\\\data\\\\mudata\\\\yiziban.csv'\n",
    "trdaydata=pd.read_csv(trdayfile,parse_dates=True,index_col=0)\n",
    "u=trdaydata.index[0]\n",
    "trdaydata=trdaydata.T\n",
    "for i in range(len(trdaydata)):\n",
    "    y=trdaydata.iloc[i]\n",
    "    z=y[y==1].index\n",
    "    if len(z)>250:\n",
    "        if z[0]!=u:\n",
    "                y[z[0]:z[250]]=0\n",
    "        else:\n",
    "            y=y\n",
    "    elif len(z)==0:\n",
    "        y=y\n",
    "    else:\n",
    "        y[z[0]:]=0\n",
    "trdaydata=trdaydata.T\n",
    "trdaydata0=dadjust(trdaydata)\n",
    "stdata=pd.read_csv(stfile,parse_dates=True,index_col=0)\n",
    "stdata0=dadjust(stdata)\n",
    "stand00=pd.read_csv(stand9500,parse_dates=True,index_col=0)\n",
    "stand500=dadjust(stand00)\n",
    "closepr=pd.read_csv(closep,parse_dates=True,index_col=0)\n",
    "closeprice=dadjust(closepr)\n",
    "mvalue=pd.read_csv(mvalue0,parse_dates=True,index_col=0)\n",
    "mvalue=dadjust(mvalue)\n",
    "yiziban0=pd.read_csv(yiziban0,parse_dates=True,index_col=0,encoding='gbk')\n",
    "yiziban0=dadjust(yiziban0)\n",
    "stfre=np.unique(stdata0.index)"
   ]
  },
  {
   "cell_type": "code",
   "execution_count": 5,
   "metadata": {
    "collapsed": false
   },
   "outputs": [],
   "source": [
    "for i in range(len(stfre)-1):\n",
    "    tradeday0=trdaydata0.loc[stfre[i]]\n",
    "    st0=stdata0.loc[stfre[i]]\n",
    "    wstand500=stand500.loc[stfre[i]]\n",
    "    yzb0=yiziban0.loc[stfre[i]]\n",
    "    #wcloseprice=closeprice.loc[stfre[i]]\n",
    "    l=len(pd.DataFrame(st0).T)\n",
    "    if i ==0:\n",
    "        w_stand500=pd.DataFrame(wstand500).T\n",
    "        tradeday=pd.DataFrame(tradeday0).T\n",
    "        st=pd.DataFrame(st0).T\n",
    "        yzb=pd.DataFrame(yzb0).T\n",
    "        #w_closeprice=pd.DataFrame(wcloseprice).T\n",
    "    else:\n",
    "        if l!=1:\n",
    "            tradeday1=tradeday0[len(tradeday0)-1:len(tradeday0)]\n",
    "            tradeday=tradeday.append(tradeday1)\n",
    "            st1=st0[len(st0)-1:len(st0)]\n",
    "            #wcloseprice1=wcloseprice[len(wcloseprice)-1:len(wcloseprice)]\n",
    "            #w_closeprice=w_closeprice.append(wcloseprice1)\n",
    "            st= st.append(st1)\n",
    "            yzb1=yzb0[len(yzb0)-1:len(yzb0)]\n",
    "            yzb=yzb.append(yzb1)\n",
    "            wstand5001= wstand500[len(wstand500)-1:len(wstand500)]\n",
    "            w_stand500=w_stand500.append(wstand5001)\n",
    "        else:\n",
    "            tradeday2=pd.DataFrame(tradeday0).T\n",
    "            tradeday=tradeday.append(tradeday2)\n",
    "            st2=pd.DataFrame(st0).T\n",
    "            st= st.append(st2)\n",
    "            #wcloseprice2=pd.DataFrame(wcloseprice).T\n",
    "            #w_closeprice=w_closeprice.append(wcloseprice2)\n",
    "            wstand5002=pd.DataFrame(wstand500).T\n",
    "            w_stand500=w_stand500.append(wstand5002) \n",
    "            yzb2=pd.DataFrame(yzb0).T\n",
    "            yzb=yzb.append(yzb2)"
   ]
  },
  {
   "cell_type": "code",
   "execution_count": 6,
   "metadata": {
    "collapsed": false
   },
   "outputs": [],
   "source": [
    "rate500=(stand500-stand500.shift(1))/stand500.shift(1)\n",
    "closerate=(closeprice-closeprice.shift(1))/closeprice.shift(1)\n",
    "w_rate500=(w_stand500-w_stand500.shift(1))/w_stand500.shift(1)\n",
    "w_rate500=w_rate500[1:]"
   ]
  },
  {
   "cell_type": "code",
   "execution_count": 7,
   "metadata": {
    "collapsed": true
   },
   "outputs": [],
   "source": [
    "ratefile='C:\\\\Users\\\\wuboyuan\\\\Desktop\\\\data\\\\mudata\\\\rate.csv'\n",
    "errate11=pd.read_csv(ratefile,parse_dates=True,index_col=0)\n",
    "errate1=dadjust(errate11)"
   ]
  },
  {
   "cell_type": "code",
   "execution_count": 24,
   "metadata": {
    "collapsed": true
   },
   "outputs": [],
   "source": [
    "file={}\n",
    "name=os.listdir(path)\n",
    "for i in range(len(name)):\n",
    "    file[i]=os.path.join(path,name[i])"
   ]
  },
  {
   "cell_type": "code",
   "execution_count": 25,
   "metadata": {
    "collapsed": false
   },
   "outputs": [
    {
     "data": {
      "text/plain": [
       "{0: 'C:\\\\Users\\\\wuboyuan\\\\Desktop\\\\data\\\\xyz2\\\\turnhsl_5d_sd_bias_3m.csv'}"
      ]
     },
     "execution_count": 25,
     "metadata": {},
     "output_type": "execute_result"
    }
   ],
   "source": [
    "file"
   ]
  },
  {
   "cell_type": "code",
   "execution_count": 26,
   "metadata": {
    "collapsed": false,
    "scrolled": true
   },
   "outputs": [
    {
     "name": "stdout",
     "output_type": "stream",
     "text": [
      "turnhsl_5d_sd_bias_3m\n"
     ]
    }
   ],
   "source": [
    "for u in range(len(file)):\n",
    "    print(name[u][:-4])\n",
    "    phn=4*(u+1)\n",
    "    data=pd.read_csv(file[u],parse_dates=True,index_col=0)#,encoding='gbk' )\n",
    "    data0=dadjust(data)\n",
    "    data0=data0.astype(float)\n",
    "    fre=np.unique(data0.index)\n",
    "    fre=tradeday.index&fre\n",
    "    dic={}\n",
    "    group={}\n",
    "    a_index={}\n",
    "    for i in range(len(fre)+1):\n",
    "        tradeday0=tradeday.loc[fre[i-1]]\n",
    "        dindex=tradeday0[tradeday0!=0].T.dropna().index\n",
    "        yzb_index=yzb.loc[fre[i-1]]\n",
    "        yzb_index=yzb_index[yzb_index==0].T.index\n",
    "        ust=st.loc[fre[i-1]]\n",
    "        ust=ust[ust!=1]\n",
    "        d_gindex=ust[dindex].dropna().index\n",
    "        d_gindex=d_gindex&yzb_index\n",
    "        data1=data0.loc[fre[i-1]]\n",
    "        data1=data1[d_gindex]\n",
    "        #mvalue1=mvalue.loc[fre[i-1]]\n",
    "        #mvalue1=mvalue1[d_gindex]\n",
    "        data1=data1.dropna().astype(float)\n",
    "        #mvalue1=mvalue1.dropna().astype(float)\n",
    "        #c_index=data1.index & mvalue1.index\n",
    "        #data1=data1[c_index]\n",
    "        #mvalue1=mvalue1[c_index]\n",
    "        #mvalue1=pd.DataFrame(mvalue1).apply(medianpeak).sort_values(by=fre[i-1],ascending=False)\n",
    "        data1=pd.DataFrame(data1).apply(medianpeak).sort_values(by=fre[i-1],ascending=False)\n",
    "        #l_data=np.arange(len(data1)+1)[1:]\n",
    "        #mvalue1.T.values[0]=l_data/(len(l_data)+1)\n",
    "        #data1.T.values[0]=l_data/(len(l_data)+1)\n",
    "        #mvalue1= mvalue1.apply(norm.ppf)\n",
    "        #data1=data1.apply(norm.ppf)\n",
    "        #mvalue1=mvalue1.loc[data1.index]\n",
    "        #mvalue1=sm.add_constant(mvalue1)\n",
    "        #model = sm.OLS(data1,mvalue1)\n",
    "        #results = model.fit()\n",
    "        #d_data=results.resid\n",
    "        sdata=pd.DataFrame(data1).apply(nondimensionalize).sort_values(by=fre[i-1],ascending=False)#.sort_values(by=0,ascending=True)\n",
    "        l=len(sdata)\n",
    "        if i ==0:\n",
    "                dic[i]=0\n",
    "        else:\n",
    "            a_index[i]=d_gindex\n",
    "            for j in range(int(gronum)):\n",
    "                group[j]=sdata[round(((j)/int(gronum))*l):round(((j+1)/int(gronum))*l)].index\n",
    "            dic[i]=copy.deepcopy(group)\n",
    "    mrate=np.zeros(len(fre)-1)\n",
    "    dicrate={}\n",
    "    grorate=np.zeros(int(gronum))\n",
    "    for j in range(int(gronum)):\n",
    "        for i in range(len(fre)-1):\n",
    "            mrate[i]=errate1[dic[i+1][j]].loc[fre[i+1]].mean()\n",
    "        dicrate[j]= copy.deepcopy(mrate)\n",
    "    for key in dicrate:\n",
    "        grorate[key]=dicrate[key].mean()\n",
    "    num=np.arange(len(grorate))\n",
    "    \n",
    "    fig0=plt.figure(phn)\n",
    "    plt.bar(num,grorate, color = 'b')\n",
    "    photo1='C:\\\\Users\\\\wuboyuan\\\\Desktop\\\\data\\\\xyzpho\\\\'+name[u][:-4]+'1.png'\n",
    "    plt.savefig(photo1)\n",
    "    \n",
    "\n",
    "    '''\n",
    "    ic=np.zeros(len(fre)-1)\n",
    "    for i in range(len(fre)-1):\n",
    "        data2=data0.loc[fre[i]]\n",
    "        icdata=data2[dic[i+1][0]].values\n",
    "        icrate=errate1[dic[i+1][0]].loc[fre[i+1]].values/100\n",
    "        ic[i]=np.corrcoef(icdata,icrate)[1][0]\n",
    "    num2=np.arange(len(ic))\n",
    "    \n",
    "    fig1=plt.figure(phn-1)\n",
    "    plt.bar(num2,ic) #排序ic\n",
    "    photo2='C:\\\\Users\\\\wuboyuan\\\\Desktop\\\\data\\\\cph\\\\'+name[u][:-4]+'2.png'\n",
    "    plt.savefig(photo2)\n",
    "    unitnet0=dicrate[0]-0.2\n",
    "    unitnet=unitnet0.cumsum()\n",
    "    unitnet=unitnet/100+1\n",
    "    w_rate=w_rate500.cumsum()+1\n",
    "    \n",
    "    fig2=plt.figure(phn-2)\n",
    "    plt.plot(unitnet,label='factor')\n",
    "    plt.plot(w_rate.T.values[0][0:len(unitnet)],label='500')\n",
    "    photo3='C:\\\\Users\\\\wuboyuan\\\\Desktop\\\\data\\\\cph\\\\'+name[u][:-4]+'3.png'\n",
    "    plt.savefig(photo3)\n",
    "    \n",
    "    fig3=plt.figure(phn-3)\n",
    "    plt.plot(unitnet-w_rate.T.values[0][0:len(unitnet)],label='500')\n",
    "    photo4='C:\\\\Users\\\\wuboyuan\\\\Desktop\\\\data\\\\cph\\\\'+name[u][:-4]+'4.png'\n",
    "    plt.savefig(photo4)\n",
    "    del photo1#,photo2,photo3,photo4,fig0,fig1,fig2,fig3\n",
    "    '''"
   ]
  },
  {
   "cell_type": "code",
   "execution_count": 31,
   "metadata": {
    "collapsed": true
   },
   "outputs": [],
   "source": [
    "a_mrate=np.zeros(len(fre)-1)\n",
    "a_dicrate={}"
   ]
  },
  {
   "cell_type": "code",
   "execution_count": 32,
   "metadata": {
    "collapsed": false
   },
   "outputs": [],
   "source": [
    "for j in range(1):\n",
    "    for i in range(len(fre)-1):\n",
    "        a_mrate[i]=errate1[a_index[i+1]].loc[fre[i+1]].mean()\n",
    "    a_dicrate= copy.deepcopy(a_mrate)"
   ]
  },
  {
   "cell_type": "code",
   "execution_count": 40,
   "metadata": {
    "collapsed": false
   },
   "outputs": [],
   "source": [
    "a_unitnet0=a_dicrate\n",
    "a_unitnet=a_unitnet0.cumsum()\n",
    "a_unitnet=a_unitnet/100+1\n",
    "w_rate=w_rate500.cumsum()+1"
   ]
  },
  {
   "cell_type": "code",
   "execution_count": 68,
   "metadata": {
    "collapsed": true
   },
   "outputs": [],
   "source": [
    "unitnet0=dicrate[0]\n",
    "unitnet=unitnet0.cumsum()\n",
    "unitnet=unitnet/100+1"
   ]
  },
  {
   "cell_type": "code",
   "execution_count": 69,
   "metadata": {
    "collapsed": false
   },
   "outputs": [
    {
     "data": {
      "image/png": "[encoded data removed]",
      "text/plain": [
       "<matplotlib.figure.Figure at 0x1a63d634978>"
      ]
     },
     "metadata": {},
     "output_type": "display_data"
    }
   ],
   "source": [
    "plt.plot(unitnet,label='factor1')\n",
    "plt.plot(a_unitnet,label='all')\n",
    "plt.plot(w_rate.T.values[0][0:len(a_unitnet)],label='500')\n",
    "plt.legend(loc=0, numpoints=1)\n",
    "plt.show()"
   ]
  },
  {
   "cell_type": "code",
   "execution_count": null,
   "metadata": {
    "collapsed": true
   },
   "outputs": [],
   "source": []
  }
 ],
 "metadata": {
  "kernelspec": {
   "display_name": "Python [conda root]",
   "language": "python",
   "name": "conda-root-py"
  },
  "language_info": {
   "codemirror_mode": {
    "name": "ipython",
    "version": 3
   },
   "file_extension": ".py",
   "mimetype": "text/x-python",
   "name": "python",
   "nbconvert_exporter": "python",
   "pygments_lexer": "ipython3",
   "version": "3.5.2"
  }
 },
 "nbformat": 4,
 "nbformat_minor": 2
}
