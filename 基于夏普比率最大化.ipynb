{
 "cells": [
  {
   "cell_type": "code",
   "execution_count": 9,
   "metadata": {
    "collapsed": true
   },
   "outputs": [],
   "source": [
    "import os\n",
    "import xlrd\n",
    "from scipy import stats\n",
    "import matplotlib.pyplot as plt\n",
    "import numpy as np\n",
    "import pandas as pd\n",
    "import math\n",
    "import datetime as dt\n",
    "import copy\n",
    "import matplotlib.dates as mdate\n",
    "import scipy.optimize as spo"
   ]
  },
  {
   "cell_type": "code",
   "execution_count": 10,
   "metadata": {
    "collapsed": false
   },
   "outputs": [
    {
     "name": "stdout",
     "output_type": "stream",
     "text": [
      "W\n",
      "15\n",
      "12\n"
     ]
    }
   ],
   "source": [
    "#极值处理\n",
    "def medianpeak(x):\n",
    "    y=np.copy(x)\n",
    "    ymedian=np.median(y)\n",
    "    zmid=np.median(np.abs(y-np.median(y)))\n",
    "    y[y<=ymedian-5.2*zmid]=(ymedian-5.2*zmid)\n",
    "    y[y>=ymedian+5.2*zmid]=(ymedian+5.2*zmid)\n",
    "    return 1/y\n",
    "#无量纲化\n",
    "def nondimensionalize(x):\n",
    "    y=np.copy(x)\n",
    "    ymean=np.mean(y)\n",
    "    ystd=np.std(y)\n",
    "    y=(y-ymean)/ystd\n",
    "    return y\n",
    "# 时间调整\n",
    "def dadjust(data):\n",
    "    data0=copy.deepcopy(data)\n",
    "    index1=data0.index.to_period(freq=frequency).values\n",
    "    fre=np.unique(index1)\n",
    "    data0.index=index1\n",
    "    data0.index=data0.index.to_series().astype(str).values\n",
    "    return data0\n",
    "#移动平均：\n",
    "def rollmean(x,n):\n",
    "    y=np.zeros(len(x)-n+1)\n",
    "    for i in range(len(x)-n+1):\n",
    "        y[i]=x[i:i+n].mean()\n",
    "    return y\n",
    "#时间频率和分组\n",
    "frequency=input()\n",
    "gronum=input()\n",
    "ula=input()"
   ]
  },
  {
   "cell_type": "code",
   "execution_count": 11,
   "metadata": {
    "collapsed": false
   },
   "outputs": [
    {
     "name": "stdout",
     "output_type": "stream",
     "text": [
      "C:\\\\Users\\\\wuboyuan\\\\Desktop\\\\data\\\\redata\\\\\n"
     ]
    }
   ],
   "source": [
    "path=input()"
   ]
  },
  {
   "cell_type": "markdown",
   "metadata": {},
   "source": [
    "# 每日收益率"
   ]
  },
  {
   "cell_type": "code",
   "execution_count": 12,
   "metadata": {
    "collapsed": true
   },
   "outputs": [],
   "source": [
    "ula=int(ula)\n",
    "errate11=pd.read_csv('C:\\\\Users\\\\wuboyuan\\\\Desktop\\\\data\\\\spj.csv',parse_dates=True,index_col=0)\n",
    "errate1=dadjust(errate11)\n",
    "indexchina1=pd.read_csv('C:\\\\Users\\\\wuboyuan\\\\Desktop\\\\data\\\\000905.csv',parse_dates=True,index_col=0)\n",
    "indexchina=dadjust(indexchina1)\n",
    "errate=(errate1-errate1.shift(1))/errate1.shift(1)\n",
    "errate=errate[1:]\n",
    "errate500=(indexchina-indexchina.shift(1))/indexchina.shift(1)\n",
    "errate500=errate500[1:]"
   ]
  },
  {
   "cell_type": "markdown",
   "metadata": {},
   "source": [
    "# 周期收益率"
   ]
  },
  {
   "cell_type": "code",
   "execution_count": 13,
   "metadata": {
    "collapsed": true
   },
   "outputs": [],
   "source": [
    "fre0=np.unique(errate.index)\n",
    "for i in range(len(fre0)):\n",
    "    if i ==0:\n",
    "        cdrate=0\n",
    "        indec500=0\n",
    "    else:\n",
    "        u=len(errate1.loc[fre0[i-1]])\n",
    "        m=len(errate1.loc[fre0[i]])\n",
    "        rate0=errate1.loc[fre0[i-1]]\n",
    "        rate0=rate0[u-1:u]\n",
    "        rate50=indexchina.loc[fre0[i-1]][u-1:u]\n",
    "        rate1=errate1.loc[fre0[i]]\n",
    "        rate1=rate1[m-1:m]\n",
    "        rate510=indexchina.loc[fre0[i]][m-1:m]\n",
    "        rate=rate0.append(rate1)\n",
    "        rate500=rate50.append(rate510)\n",
    "        rate=(rate-rate.shift(1))/rate.shift(1)\n",
    "        rate500=(rate500-rate500.shift(1))/rate500.shift(1)\n",
    "        rate=rate[1:]\n",
    "        rate500=rate500[1:]\n",
    "        cdrate0=copy.deepcopy(rate)\n",
    "        rate501=copy.deepcopy(rate500)\n",
    "        if i==1:\n",
    "            cdrate=cdrate0\n",
    "            cdrate500=rate501\n",
    "        else:\n",
    "            cdrate=cdrate.append(cdrate0)\n",
    "            cdrate500=cdrate500.append(rate501)"
   ]
  },
  {
   "cell_type": "markdown",
   "metadata": {},
   "source": [
    "# 读取数据分组"
   ]
  },
  {
   "cell_type": "code",
   "execution_count": 14,
   "metadata": {
    "collapsed": true
   },
   "outputs": [],
   "source": [
    "file={}\n",
    "data={}\n",
    "key=[]\n",
    "data0={}\n",
    "fre={}\n",
    "name=os.listdir(path)\n",
    "for i in range(len(name)):\n",
    "    file[i]=os.path.join(path,name[i])\n",
    "    data[name[i][0:-4]]=pd.read_csv(file[i],parse_dates=True,index_col=0)\n",
    "    key.append(name[i][0:-4])\n",
    "    data0[key[i]]=dadjust(data[key[i]])\n",
    "    fre[key[i]]=np.unique(data0[key[i]].index)"
   ]
  },
  {
   "cell_type": "code",
   "execution_count": 15,
   "metadata": {
    "collapsed": true
   },
   "outputs": [],
   "source": [
    "dic={}\n",
    "group={}\n",
    "data1={}\n",
    "sdata={}\n",
    "for j in range(len(name)):\n",
    "    dic[key[j]]={}\n",
    "    group[key[j]]={}\n",
    "    mrate=np.zeros(len(fre)-1)\n",
    "    for i in range(len(fre[key[j]])+1):\n",
    "        group[key[j]][i]={}\n",
    "        data1[key[j]]=data0[key[j]].loc[fre[key[j]][i-1]]\n",
    "        data1[key[j]]=data1[key[j]][data1[key[j]]!=0]\n",
    "        data1[key[j]]=data1[key[j]][len(data1[key[j]])-1:len(data1[key[j]])].T.dropna()\n",
    "        sdata[key[j]]=data1[key[j]].apply(medianpeak).apply(nondimensionalize).sort_values(by=fre[key[j]][i-1],ascending=False)\n",
    "        l=len(sdata[key[j]])\n",
    "        if i ==0:\n",
    "            dic[key[j]][i]=0\n",
    "        else:\n",
    "            for u in range(int(gronum)):\n",
    "                group[key[j]][i][u]=sdata[key[j]][round(((u)/int(gronum))*l):round(((u+1)/int(gronum))*l)].index\n",
    "    dic[key[j]]=copy.deepcopy(group[key[j]])"
   ]
  },
  {
   "cell_type": "markdown",
   "metadata": {},
   "source": [
    "# 计算单调性和分组收益"
   ]
  },
  {
   "cell_type": "code",
   "execution_count": 16,
   "metadata": {
    "collapsed": true
   },
   "outputs": [],
   "source": [
    "dicrate={}\n",
    "grorate={}\n",
    "grorate500={}\n",
    "rollrate={}\n",
    "for u in range(len(key)):\n",
    "    mrate=np.zeros(len(fre[key[u]])-1)\n",
    "    dicrate[key[u]]={}\n",
    "    grorate[key[u]]={}\n",
    "    grorate500[key[u]]={}\n",
    "    rollrate[key[u]]={}\n",
    "    for j in range(int(gronum)):\n",
    "        for i in range(len(fre[key[u]])-1):\n",
    "            mrate[i]=cdrate[dic[key[u]][i+1][j]].loc[fre[key[u]][i+1]].mean()\n",
    "        dicrate[key[u]][j]= copy.deepcopy(mrate)\n",
    "    for k in dicrate[key[u]]:\n",
    "        grorate[key[u]][k]=dicrate[key[u]][k].mean()#可以用移动加权平均值\n",
    "        grorate500[key[u]][k]=dicrate[key[u]][k].mean()-cdrate500.mean()\n",
    "        rollrate[key[u]][k]=rollmean(dicrate[key[u]][k],ula)##移动平均收益   ####"
   ]
  },
  {
   "cell_type": "markdown",
   "metadata": {},
   "source": [
    "# 移动加权IC"
   ]
  },
  {
   "cell_type": "code",
   "execution_count": 17,
   "metadata": {
    "collapsed": true
   },
   "outputs": [],
   "source": [
    "groic={}\n",
    "rollic={}\n",
    "for u in range(len(key)):\n",
    "    ic=np.zeros(len(fre[key[u]])-1)\n",
    "    ic500=np.zeros(len(fre[key[u]])-1)\n",
    "    icde=np.zeros(len(fre[key[u]])-1)\n",
    "    for i in range(len(fre[key[u]])-1):\n",
    "        data2=data0[key[u]].loc[fre[key[u]][i]]\n",
    "        data2=data2[len(data2)-1:len(data2)]\n",
    "        icdata=data2[dic[key[u]][i+1][0]].values\n",
    "        icrate=cdrate[dic[key[u]][i+1][0]].loc[fre[key[u]][i+1]].values\n",
    "        datarank=np.arange(len(icrate)+1)[1:]\n",
    "        ic[i]=np.corrcoef(datarank,icrate)[1][0]\n",
    "    groic[key[u]]=copy.deepcopy(ic)\n",
    "    rollic[key[u]]=rollmean(groic[key[u]],ula)###移动平均IC  ###"
   ]
  },
  {
   "cell_type": "code",
   "execution_count": 18,
   "metadata": {
    "collapsed": true
   },
   "outputs": [],
   "source": [
    "#基于夏普比率最大化\n",
    "rateco={}\n",
    "rate_mean={}\n",
    "weight={}\n",
    "for i in range(len(rollic[key[0]])):\n",
    "    for j in range(len(key)):\n",
    "        ratecov0=copy.deepcopy(dicrate[key[j]][0][i:i+ula]) ####\n",
    "        rate_c0=copy.deepcopy(rollrate[key[j]][0][i])\n",
    "        if j==0:\n",
    "            ratecov=ratecov0\n",
    "            rate_c=rate_c0\n",
    "        else:\n",
    "            ratecov=np.vstack((ratecov,ratecov0))\n",
    "            rate_c=np.vstack((rate_c,rate_c0))\n",
    "    rateco[i]=np.cov(ratecov)\n",
    "    rate_c=rate_c.T[0]\n",
    "    rate_mean[i]=rate_c"
   ]
  },
  {
   "cell_type": "markdown",
   "metadata": {},
   "source": [
    "# 组合权重确定"
   ]
  },
  {
   "cell_type": "code",
   "execution_count": 21,
   "metadata": {
    "collapsed": false
   },
   "outputs": [],
   "source": [
    "for k in range(len(rate_mean)):\n",
    "    def weu(u):\n",
    "        for i in range(len(rate_mean[k])):\n",
    "            func0=u[i]*rate_mean[k][i]\n",
    "            if i ==0:\n",
    "                func=copy.deepcopy(func0)\n",
    "            else:\n",
    "                func=func+func0\n",
    "        for j in range(len(rate_mean[k])):\n",
    "            for i in range(len(rate_mean[k])):\n",
    "                f0=u[i]*rateco[k][i][j]\n",
    "                if i ==0:\n",
    "                    f=f0\n",
    "                else:\n",
    "                    f=f+f0\n",
    "            t0=f*u[j]\n",
    "            if j==0:\n",
    "                t=copy.deepcopy(t0)\n",
    "            else:\n",
    "                t=t+t0\n",
    "        return -(func/(t**0.5))\n",
    "    #cons=({'type': 'eq', 'fun': lambda u: 1-u[0]-u[1]})\n",
    "    #bnds=((0.001,10),(0.001,10),(0.001,10))\n",
    "    point=np.ones(len(rate_mean[k]))\n",
    "    weight[k]=spo.minimize(weu,point,method='SLSQP',bounds='',constraints='').x\n",
    "    weight[k]=(weight[k]-weight[k].min())/(weight[k].max()-weight[k].min())\n",
    "    weight[k]=weight[k]/weight[k].sum()"
   ]
  },
  {
   "cell_type": "markdown",
   "metadata": {},
   "source": [
    " # 组合排序分组"
   ]
  },
  {
   "cell_type": "code",
   "execution_count": 34,
   "metadata": {
    "collapsed": false
   },
   "outputs": [],
   "source": [
    "n_group={}\n",
    "n_dic={}\n",
    "for i in range(len(rate_mean)):\n",
    "    for k in range(len(key)):\n",
    "        c_data=data0[key[k]].loc[fre[key[k]][i+ula-1]]###\n",
    "        c_data=c_data[c_data!=0]\n",
    "        c_data=c_data[len(c_data)-1:len(c_data)].T.dropna()\n",
    "        c_data=c_data.apply(medianpeak).apply(nondimensionalize)#.sort_values(by=fre[key[k]][i+ula-1],ascending=False)\n",
    "        #ranks=np.arange(len(c_data))\n",
    "        #c_data.T.values[0]=ranks\n",
    "        c_data=c_data*1#weight[i][k]\n",
    "        if k==0:\n",
    "            n_data=copy.deepcopy(c_data)\n",
    "        else:\n",
    "            n_data=n_data+c_data\n",
    "    n_data=n_data.dropna().sort_values(by=fre[key[k]][i+ula-1],ascending=False)####\n",
    "    n_l=len(n_data)\n",
    "    for j in range(int(gronum)):\n",
    "            n_group[j]=n_data[round(((j)/int(gronum))*n_l):round(((j+1)/int(gronum))*n_l)].index\n",
    "    n_dic[i]=copy.deepcopy(n_group)"
   ]
  },
  {
   "cell_type": "markdown",
   "metadata": {},
   "source": [
    "# 组合单调性"
   ]
  },
  {
   "cell_type": "code",
   "execution_count": 35,
   "metadata": {
    "collapsed": false
   },
   "outputs": [
    {
     "data": {
      "image/png": "[encoded data removed]",
      "text/plain": [
       "<matplotlib.figure.Figure at 0x188704681d0>"
      ]
     },
     "metadata": {},
     "output_type": "display_data"
    }
   ],
   "source": [
    "n_mrate=np.zeros(len(rate_mean))\n",
    "n_dicrate={}\n",
    "n_grorate=np.zeros(int(gronum))\n",
    "n_grorate500=np.zeros(int(gronum))\n",
    "for j in range(int(gronum)):\n",
    "    for i in range(len(rate_mean)):\n",
    "        n_mrate[i]=cdrate[n_dic[i][j]].loc[fre0[i+ula]].mean()###\n",
    "    n_dicrate[j]= copy.deepcopy(n_mrate)\n",
    "for k in n_dicrate:\n",
    "    n_grorate[k]=n_dicrate[k].mean()\n",
    "    n_grorate500[k]=n_dicrate[k].mean()-cdrate500.mean()\n",
    "n_grorate0=np.hstack((n_grorate,cdrate500.mean().values[0]))\n",
    "num=np.arange(len(n_grorate0))\n",
    "num1=np.arange(len(n_grorate500))\n",
    "plt.subplot(121)\n",
    "plt.bar(num,n_grorate0, color = 'b')\n",
    "plt.subplot(122)\n",
    "plt.bar(num1,n_grorate500, color = 'b')\n",
    "plt.show()"
   ]
  },
  {
   "cell_type": "markdown",
   "metadata": {},
   "source": [
    "# 组合IC"
   ]
  },
  {
   "cell_type": "code",
   "execution_count": 36,
   "metadata": {
    "collapsed": false
   },
   "outputs": [
    {
     "data": {
      "image/png": "[encoded data removed]",
      "text/plain": [
       "<matplotlib.figure.Figure at 0x18871279da0>"
      ]
     },
     "metadata": {},
     "output_type": "display_data"
    }
   ],
   "source": [
    "n_ic=np.zeros(len(rate_mean))\n",
    "n_ic500=np.zeros(len(rate_mean))\n",
    "for i in range(len(rate_mean)):\n",
    "    n_icrate=cdrate[n_dic[i][0]].loc[fre0[i+ula]].values ###\n",
    "    n_datarank=np.arange(len(n_icrate)+1)[1:]\n",
    "    n_icrate500=cdrate[n_dic[i][0]].loc[fre0[i+ula]].values-cdrate500.loc[fre0[i+6]].values ###\n",
    "    n_ic[i]=np.corrcoef(n_datarank,n_icrate500)[1][0]\n",
    "num2=np.arange(len(n_ic))\n",
    "plt.bar(num2,n_ic) #排序ic\n",
    "plt.show()"
   ]
  },
  {
   "cell_type": "markdown",
   "metadata": {},
   "source": [
    "# 组合胜率"
   ]
  },
  {
   "cell_type": "code",
   "execution_count": 37,
   "metadata": {
    "collapsed": true
   },
   "outputs": [],
   "source": [
    "n_vm=np.zeros(len(rate_mean))\n",
    "for i in range(len(rate_mean)):\n",
    "    n_vrate1=copy.deepcopy(errate[n_dic[i][0]].loc[fre0[i+ula]].T.mean()) ###\n",
    "    if i==0:\n",
    "        n_vrate=copy.deepcopy(n_vrate1)\n",
    "    else:\n",
    "        n_vrate=n_vrate.append(n_vrate1)\n",
    "n_vrate500=n_vrate.values-errate500.loc[fre0[ula]:].values.T[0]\n",
    "n_victory500=len(n_vrate500[n_vrate500>0])/len(n_vrate500) #每日超额胜率\n",
    "n_vclc=n_dicrate[0]-cdrate500.values.T[0][ula-1:]\n",
    "n_victoryclc500=len(n_vclc[n_vclc>0])/len(n_vclc) #周期超额胜率"
   ]
  },
  {
   "cell_type": "markdown",
   "metadata": {},
   "source": [
    "# 资金走势图"
   ]
  },
  {
   "cell_type": "code",
   "execution_count": 29,
   "metadata": {
    "collapsed": false
   },
   "outputs": [
    {
     "name": "stdout",
     "output_type": "stream",
     "text": [
      "1000000\n",
      "0.001\n",
      "0.001\n"
     ]
    }
   ],
   "source": [
    "money=input()\n",
    "feilvb=input()\n",
    "feilvs=input()"
   ]
  },
  {
   "cell_type": "code",
   "execution_count": 38,
   "metadata": {
    "collapsed": false
   },
   "outputs": [
    {
     "data": {
      "image/png": "[encoded data removed]",
      "text/plain": [
       "<matplotlib.figure.Figure at 0x1887119b860>"
      ]
     },
     "metadata": {},
     "output_type": "display_data"
    }
   ],
   "source": [
    "money=float(money)\n",
    "feilvb=float(feilvb)\n",
    "feilvs=float(feilvs)\n",
    "for i in range(len(rate_mean)):\n",
    "    price=errate1[n_dic[i][0]].loc[fre0[i+ula-1]]##\n",
    "    price=price[len(price)-1:len(price)]\n",
    "    gromoney=np.floor(int(money)/len(n_dic[i][0]))\n",
    "    grostock=np.floor(gromoney/(price*100))*(price*100)\n",
    "    sparem=(money-round(grostock.T.sum().values[0]*float(feilvb),2))-grostock.T.sum().values[0]\n",
    "    uy=errate.loc[fre0[i+ula]]+1\n",
    "    uy=uy[n_dic[i][0]].cumprod().append(grostock)\n",
    "    uy[0:len(uy)-1]=uy[0:len(uy)-1]*uy.max()\n",
    "    ret=copy.deepcopy((uy.T.sum()+sparem)[0:len(uy)-1]/money)\n",
    "    ret[len(ret)-1:len(ret)]=(ret[len(ret)-1:len(ret)]*money-(ret[len(ret)-1:len(ret)]*money-sparem)*feilvs)/money\n",
    "    uy500=(errate500.loc[fre0[i+ula]]+1).cumprod()\n",
    "    #uy500[0:1]=uy500[0:1]-feilvb\n",
    "    #uy500[len(uy500)-1:len(uy500)]=uy500[len(uy500)-1:len(uy500)]-feilvs\n",
    "    u500=copy.deepcopy(uy500)\n",
    "    u=copy.deepcopy(ret)\n",
    "    if i==0:\n",
    "        unitnet=copy.deepcopy(u)\n",
    "        unitnet500=copy.deepcopy(u500)\n",
    "    else:\n",
    "        u=u-1+unitnet[len(unitnet)-1:len(unitnet)].values[0]\n",
    "        u500=u500-1+unitnet500[len(unitnet500)-1:len(unitnet500)].values[0]\n",
    "        unitnet=unitnet.append(u)\n",
    "        unitnet500=unitnet500.append(u500)\n",
    "#unitnet.index=data.index[-len(unitnet.index):]\n",
    "#unitnet500.index=data.index[-len(unitnet500.index):]\n",
    "plt.plot(unitnet.values,label='factor')\n",
    "plt.plot(unitnet500.values,label='500')\n",
    "plt.legend(loc=0, numpoints=1)\n",
    "plt.show()"
   ]
  },
  {
   "cell_type": "code",
   "execution_count": 31,
   "metadata": {
    "collapsed": true
   },
   "outputs": [],
   "source": [
    "fpj=unitnet.values"
   ]
  },
  {
   "cell_type": "code",
   "execution_count": 39,
   "metadata": {
    "collapsed": true
   },
   "outputs": [],
   "source": [
    "pj=unitnet.values"
   ]
  },
  {
   "cell_type": "code",
   "execution_count": 40,
   "metadata": {
    "collapsed": false
   },
   "outputs": [
    {
     "data": {
      "image/png": "[encoded data removed]",
      "text/plain": [
       "<matplotlib.figure.Figure at 0x1887122cd68>"
      ]
     },
     "metadata": {},
     "output_type": "display_data"
    }
   ],
   "source": [
    "plt.plot(fpj,label='fpj')\n",
    "plt.plot(pj,label='pj')\n",
    "plt.plot(unitnet500.values,label='500')\n",
    "plt.legend(loc=0, numpoints=1)\n",
    "plt.show()"
   ]
  },
  {
   "cell_type": "code",
   "execution_count": null,
   "metadata": {
    "collapsed": true
   },
   "outputs": [],
   "source": []
  }
 ],
 "metadata": {
  "kernelspec": {
   "display_name": "Python [conda root]",
   "language": "python",
   "name": "conda-root-py"
  },
  "language_info": {
   "codemirror_mode": {
    "name": "ipython",
    "version": 3
   },
   "file_extension": ".py",
   "mimetype": "text/x-python",
   "name": "python",
   "nbconvert_exporter": "python",
   "pygments_lexer": "ipython3",
   "version": "3.5.2"
  }
 },
 "nbformat": 4,
 "nbformat_minor": 2
}
