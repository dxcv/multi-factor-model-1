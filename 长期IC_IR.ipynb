{
 "cells": [
  {
   "cell_type": "code",
   "execution_count": 2,
   "metadata": {
    "collapsed": true
   },
   "outputs": [],
   "source": [
    "import os\n",
    "import xlrd\n",
    "from scipy import stats\n",
    "import matplotlib.pyplot as plt\n",
    "import numpy as np\n",
    "import pandas as pd\n",
    "import math\n",
    "import datetime as dt\n",
    "import copy\n",
    "import matplotlib.dates as mdate\n",
    "import scipy.optimize as spo\n",
    "from scipy.stats import norm\n",
    "import statsmodels.api as sm"
   ]
  },
  {
   "cell_type": "code",
   "execution_count": 3,
   "metadata": {
    "collapsed": true
   },
   "outputs": [],
   "source": [
    "def medianpeak(x):\n",
    "    y=np.copy(x)\n",
    "    ymedian=np.median(y)\n",
    "    zmid=np.median(np.abs(y-np.median(y)))\n",
    "    y[y<=ymedian-5.2*zmid]=(ymedian-5.2*zmid)\n",
    "    y[y>=ymedian+5.2*zmid]=(ymedian+5.2*zmid)\n",
    "    return y\n",
    "def nondimensionalize(x):\n",
    "    y=np.copy(x)\n",
    "    ymean=np.mean(y)\n",
    "    ystd=np.std(y)\n",
    "    y=(y-ymean)/ystd\n",
    "    return y\n",
    "def dadjust(data):\n",
    "    data0=copy.deepcopy(data)\n",
    "    index1=data0.index.to_period(freq=frequency).values\n",
    "    fre=np.unique(index1)\n",
    "    data0.index=index1\n",
    "    data0.index=data0.index.to_series().astype(str).values\n",
    "    return data0"
   ]
  },
  {
   "cell_type": "code",
   "execution_count": 4,
   "metadata": {
    "collapsed": true
   },
   "outputs": [],
   "source": [
    "frequency='W'\n",
    "gronum=50\n",
    "path1='C:\\\\Users\\\\wuboyuan\\\\Desktop\\\\data\\\\ndata\\\\'"
   ]
  },
  {
   "cell_type": "code",
   "execution_count": 5,
   "metadata": {
    "collapsed": true
   },
   "outputs": [],
   "source": [
    "trdayfile='C:\\\\Users\\\\wuboyuan\\\\Desktop\\\\data\\\\mudata\\\\tradeday.csv'\n",
    "stfile='C:\\\\Users\\\\wuboyuan\\\\Desktop\\\\data\\\\mudata\\\\ST.csv'\n",
    "stand9500='C:\\\\Users\\\\wuboyuan\\\\Desktop\\\\data\\\\mudata\\\\stand.csv'\n",
    "closep='C:\\\\Users\\\\wuboyuan\\\\Desktop\\\\data\\\\mudata\\\\closeprice.csv'\n",
    "mvalue0='C:\\\\Users\\\\wuboyuan\\\\Desktop\\\\data\\\\mudata\\\\marketvalue.csv'\n",
    "trdaydata=pd.read_csv(trdayfile,parse_dates=True,index_col=0)\n",
    "u=trdaydata.index[0]\n",
    "trdaydata=trdaydata.T\n",
    "for i in range(len(trdaydata)):\n",
    "    y=trdaydata.iloc[i]\n",
    "    z=y[y==1].index\n",
    "    if len(z)>250:\n",
    "        if z[0]!=u:\n",
    "                y[z[0]:z[250]]=0\n",
    "        else:\n",
    "            y=y\n",
    "    elif len(z)==0:\n",
    "        y=y\n",
    "    else:\n",
    "        y[z[0]:]=0\n",
    "trdaydata=trdaydata.T\n",
    "trdaydata0=dadjust(trdaydata)\n",
    "stdata=pd.read_csv(stfile,parse_dates=True,index_col=0)\n",
    "stdata0=dadjust(stdata)\n",
    "stand00=pd.read_csv(stand9500,parse_dates=True,index_col=0)\n",
    "stand500=dadjust(stand00)\n",
    "closepr=pd.read_csv(closep,parse_dates=True,index_col=0)\n",
    "closeprice=dadjust(closepr)\n",
    "mvalue=pd.read_csv(mvalue0,parse_dates=True,index_col=0)\n",
    "mvalue=dadjust(mvalue)\n",
    "stfre=np.unique(stdata0.index)"
   ]
  },
  {
   "cell_type": "code",
   "execution_count": 6,
   "metadata": {
    "collapsed": true
   },
   "outputs": [],
   "source": [
    "for i in range(len(stfre)):\n",
    "    tradeday0=trdaydata0.loc[stfre[i]]\n",
    "    st0=stdata0.loc[stfre[i]]\n",
    "    wstand500=stand500.loc[stfre[i]]\n",
    "    #wcloseprice=closeprice.loc[stfre[i]]\n",
    "    l=len(pd.DataFrame(st0).T)\n",
    "    if i ==0:\n",
    "        w_stand500=pd.DataFrame(wstand500).T\n",
    "        tradeday=pd.DataFrame(tradeday0).T\n",
    "        st=pd.DataFrame(st0).T\n",
    "        #w_closeprice=pd.DataFrame(wcloseprice).T\n",
    "    else:\n",
    "        if l!=1:\n",
    "            tradeday1=tradeday0[len(tradeday0)-1:len(tradeday0)]\n",
    "            tradeday=tradeday.append(tradeday1)\n",
    "            st1=st0[len(st0)-1:len(st0)]\n",
    "            #wcloseprice1=wcloseprice[len(wcloseprice)-1:len(wcloseprice)]\n",
    "            #w_closeprice=w_closeprice.append(wcloseprice1)\n",
    "            st= st.append(st1)\n",
    "            wstand5001= wstand500[len(wstand500)-1:len(wstand500)]\n",
    "            w_stand500=w_stand500.append(wstand5001)\n",
    "        else:\n",
    "            tradeday2=pd.DataFrame(tradeday0).T\n",
    "            tradeday=tradeday.append(tradeday2)\n",
    "            st2=pd.DataFrame(st0).T\n",
    "            st= st.append(st2)\n",
    "            #wcloseprice2=pd.DataFrame(wcloseprice).T\n",
    "            #w_closeprice=w_closeprice.append(wcloseprice2)\n",
    "            wstand5002=pd.DataFrame(wstand500).T\n",
    "            w_stand500=w_stand500.append(wstand5002)   "
   ]
  },
  {
   "cell_type": "code",
   "execution_count": 7,
   "metadata": {
    "collapsed": true
   },
   "outputs": [],
   "source": [
    "rate500=(stand500-stand500.shift(1))/stand500.shift(1)\n",
    "closerate=(closeprice-closeprice.shift(1))/closeprice.shift(1)\n",
    "w_rate500=(w_stand500-w_stand500.shift(1))/w_stand500.shift(1)\n",
    "w_rate500=w_rate500[1:]"
   ]
  },
  {
   "cell_type": "code",
   "execution_count": 8,
   "metadata": {
    "collapsed": true
   },
   "outputs": [],
   "source": [
    "ratefile='C:\\\\Users\\\\wuboyuan\\\\Desktop\\\\data\\\\mudata\\\\rate.csv'\n",
    "errate11=pd.read_csv(ratefile,parse_dates=True,index_col=0)\n",
    "errate1=dadjust(errate11)"
   ]
  },
  {
   "cell_type": "code",
   "execution_count": 9,
   "metadata": {
    "collapsed": true
   },
   "outputs": [],
   "source": [
    "file={}\n",
    "name1=os.listdir(path1)"
   ]
  },
  {
   "cell_type": "code",
   "execution_count": 10,
   "metadata": {
    "collapsed": true
   },
   "outputs": [],
   "source": [
    "file={}\n",
    "data={}\n",
    "key=[]\n",
    "data0={}\n",
    "fre={}\n",
    "for i in range(len(name1)):\n",
    "    file[i]=os.path.join(path1,name1[i])\n",
    "    data[name1[i][0:-4]]=pd.read_csv(file[i],parse_dates=True,index_col=0)\n",
    "    key.append(name1[i][0:-4])\n",
    "    data0[key[i]]=dadjust(data[key[i]])\n",
    "fre=np.unique(data0[key[len(name1)-1]].index)"
   ]
  },
  {
   "cell_type": "code",
   "execution_count": 11,
   "metadata": {
    "collapsed": true
   },
   "outputs": [],
   "source": [
    "fre=np.unique(data0[key[len(name1)-1]].index)\n",
    "dic={}\n",
    "group={}"
   ]
  },
  {
   "cell_type": "code",
   "execution_count": 12,
   "metadata": {
    "collapsed": false,
    "scrolled": true
   },
   "outputs": [],
   "source": [
    "all_index={}\n",
    "for i in range(2):#len(fre)+1):\n",
    "    tradeday0=tradeday.loc[fre[i-1]]\n",
    "    dindex=tradeday0[tradeday0!=0].T.dropna().index\n",
    "    ust=st.loc[fre[i-1]]\n",
    "    ust=ust[ust!=1]\n",
    "    d_gindex=ust[dindex].dropna().index\n",
    "    if i ==0:\n",
    "        dic[i]=0\n",
    "    else:\n",
    "        for mu in range(len(key)):\n",
    "            data1=data0[key[mu]].loc[fre[i-1]]\n",
    "            data1=data1[d_gindex]\n",
    "            #mvalue1=mvalue.loc[fre[i-1]]\n",
    "            #mvalue1=mvalue1[d_gindex]\n",
    "            data1=data1.dropna().astype(float)\n",
    "            #mvalue1=mvalue1.dropna().astype(float)\n",
    "            #c_index=data1.index & mvalue1.index\n",
    "            #data1=data1[c_index]\n",
    "            #mvalue1=mvalue1[c_index]\n",
    "            #mvalue1=pd.DataFrame(mvalue1).apply(medianpeak).sort_values(by=fre[i-1],ascending=False)\n",
    "            data1=pd.DataFrame(data1).apply(medianpeak)#.sort_values(by=fre[i-1],ascending=False)\n",
    "            #l_data=np.arange(len(data1)+1)[1:]\n",
    "            #mvalue1.T.values[0]=l_data/(len(l_data)+1)\n",
    "            #data1.T.values[0]=l_data/(len(l_data)+1)\n",
    "            #mvalue1= mvalue1.apply(norm.ppf)\n",
    "            #data1=data1.apply(norm.ppf)\n",
    "            #mvalue1=mvalue1.loc[data1.index]\n",
    "            #mvalue1=sm.add_constant(mvalue1)\n",
    "            #model = sm.OLS(data1,mvalue1)\n",
    "            #results = model.fit()\n",
    "            #d_data=results.resid\n",
    "            sdata=pd.DataFrame(data1).apply(nondimensionalize).sort_values(by=fre[i-1],ascending=True)\n",
    "            l=len(sdata)\n",
    "            for j in range(int(gronum)):\n",
    "                group[j]=sdata[round(((j)/int(gronum))*l):round(((j+1)/int(gronum))*l)].index\n",
    "            dic[i]=copy.deepcopy(group)\n",
    "            dicrate={}\n",
    "            for j in range(int(gronum)):\n",
    "                    dicrate[j]=errate1[dic[i][j]].loc[fre[i-1]].mean()\n",
    "            gpdv=pd.DataFrame(dicrate,index=dicrate.keys())[0:1].T\n",
    "            gind=gpdv.sort_values(by=0)[0:5].index.to_series().astype(int).values\n",
    "            for gd in range(len(gind)):\n",
    "                if gd==0:\n",
    "                    new_index=dic[i][gind[gd]]\n",
    "                else:\n",
    "                    new_index=new_index.union(dic[i][gind[gd]])\n",
    "            if mu ==0:\n",
    "                 all_index[i]=sdata.index.difference(new_index)\n",
    "            else:\n",
    "                all_index[i]=all_index[i].difference(new_index)"
   ]
  },
  {
   "cell_type": "code",
   "execution_count": 13,
   "metadata": {
    "collapsed": false
   },
   "outputs": [
    {
     "data": {
      "text/plain": [
       "{1: Index(['*ST创疗', '*ST匹凸', '*ST南电A', '*ST宝实', '*ST河化', '*ST獐岛', '*ST生物', '*ST神火',\n",
       "        '*ST金宇', '*ST钱江',\n",
       "        ...\n",
       "        '长江证券', '长航凤凰', '陆家嘴', '隧道股份', '青岛双星', '青岛海尔', '青松建化', '鞍钢股份', '高新发展',\n",
       "        '黑牡丹'],\n",
       "       dtype='object', length=289)}"
      ]
     },
     "execution_count": 13,
     "metadata": {},
     "output_type": "execute_result"
    }
   ],
   "source": [
    "all_index"
   ]
  },
  {
   "cell_type": "code",
   "execution_count": 88,
   "metadata": {
    "collapsed": false
   },
   "outputs": [],
   "source": [
    "gronum1=30\n",
    "n_group={}\n",
    "n_dic={}\n",
    "for i in range(50):#len(fre)+1):\n",
    "    if i!=0:\n",
    "        for k in range(len(key)):\n",
    "            u_index=data0[key[k]].T.index&all_index[i]\n",
    "            #c_mvalue1=mvalue[u_index].loc[fre[i-1]]\n",
    "            #c_mvalue1=pd.DataFrame(c_mvalue1).apply(medianpeak).apply(nondimensionalize).sort_values(by=fre[i-1],ascending=False)\n",
    "            #cl_data=np.arange(len(c_mvalue1)+1)[1:]\n",
    "            #c_mvalue1.T.values[0]=cl_data/(len(cl_data)+1)\n",
    "            #c_mvalue1=c_mvalue1.apply(norm.ppf)\n",
    "            #c_mvalue1=sm.add_constant(c_mvalue1)\n",
    "            c_data=pd.DataFrame(data0[key[k]][u_index].loc[fre[i-1]]).apply(medianpeak).apply(nondimensionalize)#.sort_values(by=fre[i-1],ascending=False)\n",
    "            #c_data.T.values[0]=cl_data/(len(cl_data)+1)\n",
    "            #c_data=c_data.apply(norm.ppf)\n",
    "            #c_mvalue1=c_mvalue1.loc[c_data.index]\n",
    "            #model = sm.OLS(c_data,c_mvalue1)\n",
    "            #results = model.fit()\n",
    "            #c_data=results.resid\n",
    "            #c_data=pd.DataFrame(c_data).apply(nondimensionalize).sort_values(by=0,ascending=True)\n",
    "            c_data=c_data*1#weight[i][k]\n",
    "            if k==0:\n",
    "                n_data=copy.deepcopy(c_data)\n",
    "            else:\n",
    "                n_data=n_data+c_data\n",
    "        n_data=n_data.dropna().sort_values(by=fre[i-1],ascending=False)\n",
    "        n_l=len(n_data)\n",
    "        for j in range(int(gronum1)):\n",
    "                n_group[j]=n_data[round(((j)/int(gronum1))*n_l):round(((j+1)/int(gronum1))*n_l)].index\n",
    "        n_dic[i]=copy.deepcopy(n_group)"
   ]
  },
  {
   "cell_type": "code",
   "execution_count": 67,
   "metadata": {
    "collapsed": false
   },
   "outputs": [],
   "source": [
    "n_mrate=np.zeros(len(n_dic)-1)\n",
    "n_dicrate={}\n",
    "n_grorate=np.zeros(int(gronum1))\n",
    "for j in range(int(gronum1)):\n",
    "    for i in range(len(n_dic)-1):\n",
    "        n_mrate[i]=errate1[n_dic[i+1][j]].loc[fre[i+1]].mean()\n",
    "    n_dicrate[j]= copy.deepcopy(n_mrate)\n",
    "for k in n_dicrate:\n",
    "    n_grorate[k]=n_dicrate[k].mean()"
   ]
  },
  {
   "cell_type": "code",
   "execution_count": 72,
   "metadata": {
    "collapsed": false
   },
   "outputs": [],
   "source": [
    "plt.figure(4)\n",
    "num=np.arange(len(n_grorate))\n",
    "plt.bar(num,n_grorate, color = 'b')\n",
    "photo1='C:\\\\Users\\\\wuboyuan\\\\Desktop\\\\data\\\\cph\\\\单调性.png'\n",
    "plt.savefig(photo1)"
   ]
  },
  {
   "cell_type": "code",
   "execution_count": 80,
   "metadata": {
    "collapsed": true
   },
   "outputs": [],
   "source": [
    "unitnet0=n_dicrate[0]-0.2\n",
    "unitnet=unitnet0.cumsum()\n",
    "unitnet=unitnet/100+1\n",
    "w_rate=w_rate500.cumsum()+1"
   ]
  },
  {
   "cell_type": "code",
   "execution_count": 81,
   "metadata": {
    "collapsed": false
   },
   "outputs": [],
   "source": [
    "plt.figure(9)\n",
    "plt.plot(unitnet,label='factor')\n",
    "plt.plot(w_rate.T.values[0][0:len(unitnet)],label='500')\n",
    "plt.legend(loc=0, numpoints=1)\n",
    "photo1='C:\\\\Users\\\\wuboyuan\\\\Desktop\\\\data\\\\cph\\\\净值.png'\n",
    "plt.savefig(photo1)"
   ]
  },
  {
   "cell_type": "code",
   "execution_count": 82,
   "metadata": {
    "collapsed": false
   },
   "outputs": [],
   "source": [
    "plt.figure(10)\n",
    "plt.plot(unitnet-w_rate.T.values[0][0:len(unitnet)])\n",
    "photo1='C:\\\\Users\\\\wuboyuan\\\\Desktop\\\\data\\\\cph\\\\超额净值.png'\n",
    "plt.savefig(photo1)"
   ]
  },
  {
   "cell_type": "code",
   "execution_count": 53,
   "metadata": {
    "collapsed": false
   },
   "outputs": [
    {
     "data": {
      "text/plain": [
       "Index(['*ST匹凸', '*ST南电A', '*ST宝实', '*ST河化', '*ST獐岛', '*ST生物', '*ST神火', '*ST金宇',\n",
       "       '*ST钱江'],\n",
       "      dtype='object')"
      ]
     },
     "execution_count": 53,
     "metadata": {},
     "output_type": "execute_result"
    }
   ],
   "source": [
    "all_index[1][1:10]"
   ]
  },
  {
   "cell_type": "code",
   "execution_count": 54,
   "metadata": {
    "collapsed": true
   },
   "outputs": [],
   "source": [
    "u=['ST明科', 'S佳通', '中国中期', '中天能源', '交通银行', '北京银行', '华纺股份', '南京熊猫', '南方航空',\n",
    "       '园城黄金', '国金证券', '天康生物', '太钢不锈', '安迪苏', '宝光股份', '广宇发展', '新钢股份', '新黄浦',\n",
    "       '现代投资', '皇庭国际', '联化科技', '超图软件', '金浦钛业', '铜陵有色', '长城影视', '长江证券']"
   ]
  },
  {
   "cell_type": "code",
   "execution_count": 56,
   "metadata": {
    "collapsed": false
   },
   "outputs": [
    {
     "ename": "AttributeError",
     "evalue": "'list' object has no attribute 'isin'",
     "output_type": "error",
     "traceback": [
      "\u001b[0;31m---------------------------------------------------------------------------\u001b[0m",
      "\u001b[0;31mAttributeError\u001b[0m                            Traceback (most recent call last)",
      "\u001b[0;32m<ipython-input-56-6c787ed70a01>\u001b[0m in \u001b[0;36m<module>\u001b[0;34m()\u001b[0m\n\u001b[0;32m----> 1\u001b[0;31m \u001b[0mu\u001b[0m\u001b[1;33m.\u001b[0m\u001b[0misin\u001b[0m\u001b[1;33m(\u001b[0m\u001b[0mall_index\u001b[0m\u001b[1;33m[\u001b[0m\u001b[1;36m1\u001b[0m\u001b[1;33m]\u001b[0m\u001b[1;33m[\u001b[0m\u001b[1;36m1\u001b[0m\u001b[1;33m:\u001b[0m\u001b[1;36m10\u001b[0m\u001b[1;33m]\u001b[0m\u001b[1;33m)\u001b[0m\u001b[1;33m\u001b[0m\u001b[0m\n\u001b[0m",
      "\u001b[0;31mAttributeError\u001b[0m: 'list' object has no attribute 'isin'"
     ]
    }
   ],
   "source": [
    "u.isin(all_index[1][1:10])"
   ]
  },
  {
   "cell_type": "code",
   "execution_count": 58,
   "metadata": {
    "collapsed": false
   },
   "outputs": [
    {
     "ename": "AttributeError",
     "evalue": "'Index' object has no attribute 'issuperset'",
     "output_type": "error",
     "traceback": [
      "\u001b[0;31m---------------------------------------------------------------------------\u001b[0m",
      "\u001b[0;31mAttributeError\u001b[0m                            Traceback (most recent call last)",
      "\u001b[0;32m<ipython-input-58-3f3810121f52>\u001b[0m in \u001b[0;36m<module>\u001b[0;34m()\u001b[0m\n\u001b[0;32m----> 1\u001b[0;31m \u001b[0mall_index\u001b[0m\u001b[1;33m[\u001b[0m\u001b[1;36m1\u001b[0m\u001b[1;33m]\u001b[0m\u001b[1;33m.\u001b[0m\u001b[0missuperset\u001b[0m\u001b[1;33m(\u001b[0m\u001b[0mu\u001b[0m\u001b[1;33m)\u001b[0m\u001b[1;33m\u001b[0m\u001b[0m\n\u001b[0m",
      "\u001b[0;31mAttributeError\u001b[0m: 'Index' object has no attribute 'issuperset'"
     ]
    }
   ],
   "source": [
    "all_index[1].issuperset(u)"
   ]
  },
  {
   "cell_type": "code",
   "execution_count": 60,
   "metadata": {
    "collapsed": false
   },
   "outputs": [
    {
     "ename": "SyntaxError",
     "evalue": "invalid character in identifier (<ipython-input-60-39b50696f2f8>, line 1)",
     "output_type": "error",
     "traceback": [
      "\u001b[0;36m  File \u001b[0;32m\"<ipython-input-60-39b50696f2f8>\"\u001b[0;36m, line \u001b[0;32m1\u001b[0m\n\u001b[0;31m    set(all_index[1])\u001b[0m\n\u001b[0m                     ^\u001b[0m\n\u001b[0;31mSyntaxError\u001b[0m\u001b[0;31m:\u001b[0m invalid character in identifier\n"
     ]
    }
   ],
   "source": [
    "set(all_index[1]) "
   ]
  },
  {
   "cell_type": "code",
   "execution_count": 62,
   "metadata": {
    "collapsed": false
   },
   "outputs": [
    {
     "data": {
      "text/plain": [
       "True"
      ]
     },
     "execution_count": 62,
     "metadata": {},
     "output_type": "execute_result"
    }
   ],
   "source": [
    "set(all_index[1]).issuperset(u)"
   ]
  },
  {
   "cell_type": "code",
   "execution_count": null,
   "metadata": {
    "collapsed": true
   },
   "outputs": [],
   "source": []
  }
 ],
 "metadata": {
  "kernelspec": {
   "display_name": "Python [conda root]",
   "language": "python",
   "name": "conda-root-py"
  },
  "language_info": {
   "codemirror_mode": {
    "name": "ipython",
    "version": 3
   },
   "file_extension": ".py",
   "mimetype": "text/x-python",
   "name": "python",
   "nbconvert_exporter": "python",
   "pygments_lexer": "ipython3",
   "version": "3.5.2"
  }
 },
 "nbformat": 4,
 "nbformat_minor": 2
}
