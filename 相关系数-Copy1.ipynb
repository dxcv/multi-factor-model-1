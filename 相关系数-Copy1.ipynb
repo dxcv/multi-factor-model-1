{
 "cells": [
  {
   "cell_type": "code",
   "execution_count": 1,
   "metadata": {
    "collapsed": true
   },
   "outputs": [],
   "source": [
    "import os\n",
    "import xlrd\n",
    "from scipy import stats\n",
    "import matplotlib.pyplot as plt\n",
    "import numpy as np\n",
    "import pandas as pd\n",
    "import math\n",
    "import datetime as dt\n",
    "import copy\n",
    "import matplotlib.dates as mdate\n",
    "import scipy.optimize as spo\n",
    "from scipy.stats import norm\n",
    "import statsmodels.api as sm"
   ]
  },
  {
   "cell_type": "code",
   "execution_count": 2,
   "metadata": {
    "collapsed": true
   },
   "outputs": [],
   "source": [
    "def medianpeak(x):\n",
    "    y=np.copy(x)\n",
    "    ymedian=np.median(y)\n",
    "    zmid=np.median(np.abs(y-np.median(y)))\n",
    "    y[y<=ymedian-5.2*zmid]=(ymedian-5.2*zmid)\n",
    "    y[y>=ymedian+5.2*zmid]=(ymedian+5.2*zmid)\n",
    "    return y\n",
    "def nondimensionalize(x):\n",
    "    y=np.copy(x)\n",
    "    ymean=np.mean(y)\n",
    "    ystd=np.std(y)\n",
    "    y=(y-ymean)/ystd\n",
    "    return y\n",
    "def dadjust(data):\n",
    "    data0=copy.deepcopy(data)\n",
    "    index1=data0.index.to_period(freq=frequency).values\n",
    "    fre=np.unique(index1)\n",
    "    data0.index=index1\n",
    "    data0.index=data0.index.to_series().astype(str).values\n",
    "    return data0"
   ]
  },
  {
   "cell_type": "code",
   "execution_count": 3,
   "metadata": {
    "collapsed": true
   },
   "outputs": [],
   "source": [
    "frequency='W'\n",
    "gronum1=50\n",
    "path1='C:\\\\Users\\\\wuboyuan\\\\Desktop\\\\data\\\\ndata\\\\'"
   ]
  },
  {
   "cell_type": "code",
   "execution_count": 8,
   "metadata": {
    "collapsed": true
   },
   "outputs": [],
   "source": [
    "trdayfile='C:\\\\Users\\\\wuboyuan\\\\Desktop\\\\data\\\\mudata\\\\tradeday.csv'\n",
    "stfile='C:\\\\Users\\\\wuboyuan\\\\Desktop\\\\data\\\\mudata\\\\ST.csv'\n",
    "stand9500='C:\\\\Users\\\\wuboyuan\\\\Desktop\\\\data\\\\mudata\\\\stand.csv'\n",
    "closep='C:\\\\Users\\\\wuboyuan\\\\Desktop\\\\data\\\\mudata\\\\closeprice.csv'\n",
    "mvalue0='C:\\\\Users\\\\wuboyuan\\\\Desktop\\\\data\\\\mudata\\\\marketvalue.csv'\n",
    "yiziban0='C:\\\\Users\\\\wuboyuan\\\\Desktop\\\\data\\\\mudata\\\\yiziban.csv'\n",
    "trdaydata=pd.read_csv(trdayfile,parse_dates=True,index_col=0)\n",
    "u=trdaydata.index[0]\n",
    "trdaydata=trdaydata.T\n",
    "for i in range(len(trdaydata)):\n",
    "    y=trdaydata.iloc[i]\n",
    "    z=y[y==1].index\n",
    "    if len(z)>250:\n",
    "        if z[0]!=u:\n",
    "                y[z[0]:z[250]]=0\n",
    "        else:\n",
    "            y=y\n",
    "    elif len(z)==0:\n",
    "        y=y\n",
    "    else:\n",
    "        y[z[0]:]=0\n",
    "trdaydata=trdaydata.T\n",
    "trdaydata0=dadjust(trdaydata)\n",
    "stdata=pd.read_csv(stfile,parse_dates=True,index_col=0)\n",
    "stdata0=dadjust(stdata)\n",
    "stand00=pd.read_csv(stand9500,parse_dates=True,index_col=0)\n",
    "stand500=dadjust(stand00)\n",
    "closepr=pd.read_csv(closep,parse_dates=True,index_col=0)\n",
    "closeprice=dadjust(closepr)\n",
    "mvalue=pd.read_csv(mvalue0,parse_dates=True,index_col=0)\n",
    "mvalue=dadjust(mvalue)\n",
    "yiziban0=pd.read_csv(yiziban0,parse_dates=True,index_col=0,encoding='gbk')\n",
    "yiziban0=dadjust(yiziban0)\n",
    "stfre=np.unique(stdata0.index)"
   ]
  },
  {
   "cell_type": "code",
   "execution_count": 9,
   "metadata": {
    "collapsed": true
   },
   "outputs": [],
   "source": [
    "for i in range(len(stfre)-1):\n",
    "    tradeday0=trdaydata0.loc[stfre[i]]\n",
    "    st0=stdata0.loc[stfre[i]]\n",
    "    wstand500=stand500.loc[stfre[i]]\n",
    "    yzb0=yiziban0.loc[stfre[i]]\n",
    "    #wcloseprice=closeprice.loc[stfre[i]]\n",
    "    l=len(pd.DataFrame(st0).T)\n",
    "    if i ==0:\n",
    "        w_stand500=pd.DataFrame(wstand500).T\n",
    "        tradeday=pd.DataFrame(tradeday0).T\n",
    "        st=pd.DataFrame(st0).T\n",
    "        yzb=pd.DataFrame(yzb0).T\n",
    "        #w_closeprice=pd.DataFrame(wcloseprice).T\n",
    "    else:\n",
    "        if l!=1:\n",
    "            tradeday1=tradeday0[len(tradeday0)-1:len(tradeday0)]\n",
    "            tradeday=tradeday.append(tradeday1)\n",
    "            st1=st0[len(st0)-1:len(st0)]\n",
    "            #wcloseprice1=wcloseprice[len(wcloseprice)-1:len(wcloseprice)]\n",
    "            #w_closeprice=w_closeprice.append(wcloseprice1)\n",
    "            st= st.append(st1)\n",
    "            yzb1=yzb0[len(yzb0)-1:len(yzb0)]\n",
    "            yzb=yzb.append(yzb1)\n",
    "            wstand5001= wstand500[len(wstand500)-1:len(wstand500)]\n",
    "            w_stand500=w_stand500.append(wstand5001)\n",
    "        else:\n",
    "            tradeday2=pd.DataFrame(tradeday0).T\n",
    "            tradeday=tradeday.append(tradeday2)\n",
    "            st2=pd.DataFrame(st0).T\n",
    "            st= st.append(st2)\n",
    "            #wcloseprice2=pd.DataFrame(wcloseprice).T\n",
    "            #w_closeprice=w_closeprice.append(wcloseprice2)\n",
    "            wstand5002=pd.DataFrame(wstand500).T\n",
    "            w_stand500=w_stand500.append(wstand5002) \n",
    "            yzb2=pd.DataFrame(yzb0).T\n",
    "            yzb=yzb.append(yzb2)"
   ]
  },
  {
   "cell_type": "code",
   "execution_count": 10,
   "metadata": {
    "collapsed": true
   },
   "outputs": [],
   "source": [
    "rate500=(stand500-stand500.shift(1))/stand500.shift(1)\n",
    "closerate=(closeprice-closeprice.shift(1))/closeprice.shift(1)\n",
    "w_rate500=(w_stand500-w_stand500.shift(1))/w_stand500.shift(1)\n",
    "w_rate500=w_rate500[1:]"
   ]
  },
  {
   "cell_type": "code",
   "execution_count": 11,
   "metadata": {
    "collapsed": true
   },
   "outputs": [],
   "source": [
    "ratefile='C:\\\\Users\\\\wuboyuan\\\\Desktop\\\\data\\\\mudata\\\\rate.csv'\n",
    "errate11=pd.read_csv(ratefile,parse_dates=True,index_col=0)\n",
    "errate1=dadjust(errate11)"
   ]
  },
  {
   "cell_type": "code",
   "execution_count": 16,
   "metadata": {
    "collapsed": true
   },
   "outputs": [],
   "source": [
    "file={}\n",
    "name1=os.listdir(path1)"
   ]
  },
  {
   "cell_type": "code",
   "execution_count": 9,
   "metadata": {
    "collapsed": false
   },
   "outputs": [],
   "source": [
    "del name1[11]"
   ]
  },
  {
   "cell_type": "code",
   "execution_count": 17,
   "metadata": {
    "collapsed": false
   },
   "outputs": [
    {
     "data": {
      "text/plain": [
       "['cmvalue.csv',\n",
       " 'EBIT息税前利润.csv',\n",
       " 'marketvalue.csv',\n",
       " 'PB.csv',\n",
       " 'PCF.csv',\n",
       " 'PE.csv',\n",
       " 'PS.csv',\n",
       " '净资产收益率.csv',\n",
       " '周成交金额.csv',\n",
       " '周振幅2.csv',\n",
       " '周换手率2.csv',\n",
       " '周涨幅2.csv',\n",
       " '开盘价.csv',\n",
       " '每股公积金.csv',\n",
       " '每股收益增长率.csv',\n",
       " '营业利润率.csv',\n",
       " '营业收入增长率.csv',\n",
       " '资产负债率.csv']"
      ]
     },
     "execution_count": 17,
     "metadata": {},
     "output_type": "execute_result"
    }
   ],
   "source": [
    "name1"
   ]
  },
  {
   "cell_type": "code",
   "execution_count": 18,
   "metadata": {
    "collapsed": false
   },
   "outputs": [],
   "source": [
    "file={}\n",
    "data={}\n",
    "key=[]\n",
    "data0={}\n",
    "fre={}\n",
    "for i in range(len(name1)):\n",
    "    file[i]=os.path.join(path1,name1[i])\n",
    "    data[name1[i][0:-4]]=pd.read_csv(file[i],parse_dates=True,index_col=0)\n",
    "    key.append(name1[i][0:-4])\n",
    "    data0[key[i]]=dadjust(data[key[i]])\n",
    "fre=np.unique(data0[key[len(name1)-1]].index)"
   ]
  },
  {
   "cell_type": "code",
   "execution_count": 21,
   "metadata": {
    "collapsed": false,
    "scrolled": false
   },
   "outputs": [],
   "source": [
    "dic={}\n",
    "group={}\n",
    "n_group={}\n",
    "n_dic={}\n",
    "all_index={}\n",
    "for i in range(2):#len(fre)+1):\n",
    "    tradeday0=tradeday.loc[fre[i-1]]\n",
    "    dindex=tradeday0[tradeday0!=0].T.dropna().index\n",
    "    ust=st.loc[fre[i-1]]\n",
    "    ust=ust[ust!=1]\n",
    "    yzb_index=yzb.loc[fre[i-1]]\n",
    "    yzb_index=yzb_index[yzb_index==0].T.index\n",
    "    d_gindex=ust[dindex].dropna().index\n",
    "    d_gindex=d_gindex&yzb_index\n",
    "    profit=pd.DataFrame(errate1[d_gindex].loc[fre[i-1]].dropna().astype(float))\n",
    "    if i ==0:\n",
    "        n_dic[i]=0\n",
    "    else:\n",
    "        ind=0\n",
    "        for mu in range(len(key)):\n",
    "            data1=data0[key[mu]].loc[fre[i-1]]\n",
    "            d_gindex=d_gindex&data1.index\n",
    "        for mu in range(len(key)):\n",
    "            data1=data0[key[mu]].loc[fre[i-1]]\n",
    "            data1=data1[d_gindex]\n",
    "            data1=data1.dropna().astype(float)\n",
    "            d2_gindex=data1.index&profit.index\n",
    "            data1=pd.DataFrame(data1).apply(medianpeak).apply(nondimensionalize)\n",
    "            data1=data1.loc[d2_gindex]\n",
    "            x=sm.add_constant(data1)\n",
    "            profit=profit.loc[d2_gindex]\n",
    "            co_data=pd.concat([profit,data1],axis=1,join='inner')\n",
    "            c_data=data1*co_data.corr().values[0][1]\n",
    "            if ind==0:\n",
    "                n_data=copy.deepcopy(c_data)\n",
    "                ind=1\n",
    "            else:\n",
    "                n_data=n_data+c_data\n",
    "        '''model=sm.OLS(profit,x)\n",
    "            result=model.fit()\n",
    "            if result.pvalues[1:2][0]<0.05:\n",
    "                c_data=data1*result.params[1:2].values[0]\n",
    "                if ind==0:\n",
    "                    n_data=copy.deepcopy(c_data)\n",
    "                    ind=1\n",
    "                else:\n",
    "                    n_data=n_data+c_data \n",
    "        n_data=n_data.dropna().sort_values(by=fre[i-1],ascending=False)\n",
    "        n_l=len(n_data)\n",
    "        for j in range(int(gronum1)):\n",
    "                n_group[j]=n_data[round(((j)/int(gronum1))*n_l):round(((j+1)/int(gronum1))*n_l)].index\n",
    "        n_dic[i]=copy.deepcopy(n_group)'''"
   ]
  },
  {
   "cell_type": "code",
   "execution_count": 32,
   "metadata": {
    "collapsed": false
   },
   "outputs": [
    {
     "data": {
      "text/html": [
       "<div>\n",
       "<table border=\"1\" class=\"dataframe\">\n",
       "  <thead>\n",
       "    <tr style=\"text-align: right;\">\n",
       "      <th></th>\n",
       "      <th>2009-12-28/2010-01-03</th>\n",
       "    </tr>\n",
       "  </thead>\n",
       "  <tbody>\n",
       "    <tr>\n",
       "      <th>广宇发展</th>\n",
       "      <td>4.512560</td>\n",
       "    </tr>\n",
       "    <tr>\n",
       "      <th>新黄浦</th>\n",
       "      <td>4.411607</td>\n",
       "    </tr>\n",
       "    <tr>\n",
       "      <th>物产中大</th>\n",
       "      <td>4.362394</td>\n",
       "    </tr>\n",
       "    <tr>\n",
       "      <th>中国中期</th>\n",
       "      <td>4.332818</td>\n",
       "    </tr>\n",
       "    <tr>\n",
       "      <th>深圳燃气</th>\n",
       "      <td>4.243462</td>\n",
       "    </tr>\n",
       "    <tr>\n",
       "      <th>德豪润达</th>\n",
       "      <td>4.150889</td>\n",
       "    </tr>\n",
       "    <tr>\n",
       "      <th>海峡股份</th>\n",
       "      <td>4.150109</td>\n",
       "    </tr>\n",
       "    <tr>\n",
       "      <th>大族激光</th>\n",
       "      <td>4.040892</td>\n",
       "    </tr>\n",
       "    <tr>\n",
       "      <th>大恒科技</th>\n",
       "      <td>3.996428</td>\n",
       "    </tr>\n",
       "    <tr>\n",
       "      <th>证通电子</th>\n",
       "      <td>3.974006</td>\n",
       "    </tr>\n",
       "    <tr>\n",
       "      <th>数源科技</th>\n",
       "      <td>3.889532</td>\n",
       "    </tr>\n",
       "    <tr>\n",
       "      <th>中航高科</th>\n",
       "      <td>3.843196</td>\n",
       "    </tr>\n",
       "    <tr>\n",
       "      <th>高新发展</th>\n",
       "      <td>3.804919</td>\n",
       "    </tr>\n",
       "    <tr>\n",
       "      <th>天音控股</th>\n",
       "      <td>3.795419</td>\n",
       "    </tr>\n",
       "    <tr>\n",
       "      <th>超图软件</th>\n",
       "      <td>3.778806</td>\n",
       "    </tr>\n",
       "    <tr>\n",
       "      <th>华映科技</th>\n",
       "      <td>3.771536</td>\n",
       "    </tr>\n",
       "    <tr>\n",
       "      <th>申通地铁</th>\n",
       "      <td>3.751997</td>\n",
       "    </tr>\n",
       "    <tr>\n",
       "      <th>现代投资</th>\n",
       "      <td>3.736673</td>\n",
       "    </tr>\n",
       "    <tr>\n",
       "      <th>经纬纺机</th>\n",
       "      <td>3.731271</td>\n",
       "    </tr>\n",
       "    <tr>\n",
       "      <th>中国卫星</th>\n",
       "      <td>3.681492</td>\n",
       "    </tr>\n",
       "    <tr>\n",
       "      <th>中银绒业</th>\n",
       "      <td>3.631719</td>\n",
       "    </tr>\n",
       "    <tr>\n",
       "      <th>商赢环球</th>\n",
       "      <td>3.592639</td>\n",
       "    </tr>\n",
       "    <tr>\n",
       "      <th>天成控股</th>\n",
       "      <td>3.569824</td>\n",
       "    </tr>\n",
       "    <tr>\n",
       "      <th>联化科技</th>\n",
       "      <td>3.545888</td>\n",
       "    </tr>\n",
       "    <tr>\n",
       "      <th>美尔雅</th>\n",
       "      <td>3.471008</td>\n",
       "    </tr>\n",
       "    <tr>\n",
       "      <th>常山股份</th>\n",
       "      <td>3.459954</td>\n",
       "    </tr>\n",
       "    <tr>\n",
       "      <th>三安光电</th>\n",
       "      <td>3.416656</td>\n",
       "    </tr>\n",
       "    <tr>\n",
       "      <th>广东明珠</th>\n",
       "      <td>3.387840</td>\n",
       "    </tr>\n",
       "    <tr>\n",
       "      <th>航天通信</th>\n",
       "      <td>3.364990</td>\n",
       "    </tr>\n",
       "    <tr>\n",
       "      <th>国轩高科</th>\n",
       "      <td>3.348565</td>\n",
       "    </tr>\n",
       "    <tr>\n",
       "      <th>...</th>\n",
       "      <td>...</td>\n",
       "    </tr>\n",
       "    <tr>\n",
       "      <th>齐心集团</th>\n",
       "      <td>-1.862267</td>\n",
       "    </tr>\n",
       "    <tr>\n",
       "      <th>莱美药业</th>\n",
       "      <td>-1.883621</td>\n",
       "    </tr>\n",
       "    <tr>\n",
       "      <th>卫 士 通</th>\n",
       "      <td>-1.903672</td>\n",
       "    </tr>\n",
       "    <tr>\n",
       "      <th>深纺织Ａ</th>\n",
       "      <td>-1.915606</td>\n",
       "    </tr>\n",
       "    <tr>\n",
       "      <th>许继电气</th>\n",
       "      <td>-1.922924</td>\n",
       "    </tr>\n",
       "    <tr>\n",
       "      <th>吉电股份</th>\n",
       "      <td>-1.941202</td>\n",
       "    </tr>\n",
       "    <tr>\n",
       "      <th>*ST中发</th>\n",
       "      <td>-1.953889</td>\n",
       "    </tr>\n",
       "    <tr>\n",
       "      <th>海 利 得</th>\n",
       "      <td>-1.968539</td>\n",
       "    </tr>\n",
       "    <tr>\n",
       "      <th>吉林森工</th>\n",
       "      <td>-1.970163</td>\n",
       "    </tr>\n",
       "    <tr>\n",
       "      <th>金亚科技</th>\n",
       "      <td>-1.973419</td>\n",
       "    </tr>\n",
       "    <tr>\n",
       "      <th>连云港</th>\n",
       "      <td>-2.004130</td>\n",
       "    </tr>\n",
       "    <tr>\n",
       "      <th>香溢融通</th>\n",
       "      <td>-2.010835</td>\n",
       "    </tr>\n",
       "    <tr>\n",
       "      <th>阳光照明</th>\n",
       "      <td>-2.017753</td>\n",
       "    </tr>\n",
       "    <tr>\n",
       "      <th>盛和资源</th>\n",
       "      <td>-2.022686</td>\n",
       "    </tr>\n",
       "    <tr>\n",
       "      <th>中元股份</th>\n",
       "      <td>-2.033051</td>\n",
       "    </tr>\n",
       "    <tr>\n",
       "      <th>双鹭药业</th>\n",
       "      <td>-2.070466</td>\n",
       "    </tr>\n",
       "    <tr>\n",
       "      <th>新宁物流</th>\n",
       "      <td>-2.071356</td>\n",
       "    </tr>\n",
       "    <tr>\n",
       "      <th>苏 泊 尔</th>\n",
       "      <td>-2.071977</td>\n",
       "    </tr>\n",
       "    <tr>\n",
       "      <th>天保基建</th>\n",
       "      <td>-2.103839</td>\n",
       "    </tr>\n",
       "    <tr>\n",
       "      <th>*ST京城</th>\n",
       "      <td>-2.156728</td>\n",
       "    </tr>\n",
       "    <tr>\n",
       "      <th>恩华药业</th>\n",
       "      <td>-2.246594</td>\n",
       "    </tr>\n",
       "    <tr>\n",
       "      <th>ST狮头</th>\n",
       "      <td>-2.280545</td>\n",
       "    </tr>\n",
       "    <tr>\n",
       "      <th>精艺股份</th>\n",
       "      <td>-2.281682</td>\n",
       "    </tr>\n",
       "    <tr>\n",
       "      <th>洪都航空</th>\n",
       "      <td>-2.285391</td>\n",
       "    </tr>\n",
       "    <tr>\n",
       "      <th>立思辰</th>\n",
       "      <td>-2.311740</td>\n",
       "    </tr>\n",
       "    <tr>\n",
       "      <th>艾派克</th>\n",
       "      <td>-2.317399</td>\n",
       "    </tr>\n",
       "    <tr>\n",
       "      <th>空港股份</th>\n",
       "      <td>-2.317472</td>\n",
       "    </tr>\n",
       "    <tr>\n",
       "      <th>中材科技</th>\n",
       "      <td>-2.342642</td>\n",
       "    </tr>\n",
       "    <tr>\n",
       "      <th>方正电机</th>\n",
       "      <td>-2.352226</td>\n",
       "    </tr>\n",
       "    <tr>\n",
       "      <th>特锐德</th>\n",
       "      <td>-2.358912</td>\n",
       "    </tr>\n",
       "  </tbody>\n",
       "</table>\n",
       "<p>1457 rows × 1 columns</p>\n",
       "</div>"
      ],
      "text/plain": [
       "       2009-12-28/2010-01-03\n",
       "广宇发展                4.512560\n",
       "新黄浦                 4.411607\n",
       "物产中大                4.362394\n",
       "中国中期                4.332818\n",
       "深圳燃气                4.243462\n",
       "德豪润达                4.150889\n",
       "海峡股份                4.150109\n",
       "大族激光                4.040892\n",
       "大恒科技                3.996428\n",
       "证通电子                3.974006\n",
       "数源科技                3.889532\n",
       "中航高科                3.843196\n",
       "高新发展                3.804919\n",
       "天音控股                3.795419\n",
       "超图软件                3.778806\n",
       "华映科技                3.771536\n",
       "申通地铁                3.751997\n",
       "现代投资                3.736673\n",
       "经纬纺机                3.731271\n",
       "中国卫星                3.681492\n",
       "中银绒业                3.631719\n",
       "商赢环球                3.592639\n",
       "天成控股                3.569824\n",
       "联化科技                3.545888\n",
       "美尔雅                 3.471008\n",
       "常山股份                3.459954\n",
       "三安光电                3.416656\n",
       "广东明珠                3.387840\n",
       "航天通信                3.364990\n",
       "国轩高科                3.348565\n",
       "...                      ...\n",
       "齐心集团               -1.862267\n",
       "莱美药业               -1.883621\n",
       "卫 士 通              -1.903672\n",
       "深纺织Ａ               -1.915606\n",
       "许继电气               -1.922924\n",
       "吉电股份               -1.941202\n",
       "*ST中发              -1.953889\n",
       "海 利 得              -1.968539\n",
       "吉林森工               -1.970163\n",
       "金亚科技               -1.973419\n",
       "连云港                -2.004130\n",
       "香溢融通               -2.010835\n",
       "阳光照明               -2.017753\n",
       "盛和资源               -2.022686\n",
       "中元股份               -2.033051\n",
       "双鹭药业               -2.070466\n",
       "新宁物流               -2.071356\n",
       "苏 泊 尔              -2.071977\n",
       "天保基建               -2.103839\n",
       "*ST京城              -2.156728\n",
       "恩华药业               -2.246594\n",
       "ST狮头               -2.280545\n",
       "精艺股份               -2.281682\n",
       "洪都航空               -2.285391\n",
       "立思辰                -2.311740\n",
       "艾派克                -2.317399\n",
       "空港股份               -2.317472\n",
       "中材科技               -2.342642\n",
       "方正电机               -2.352226\n",
       "特锐德                -2.358912\n",
       "\n",
       "[1457 rows x 1 columns]"
      ]
     },
     "execution_count": 32,
     "metadata": {},
     "output_type": "execute_result"
    }
   ],
   "source": [
    "n_data"
   ]
  },
  {
   "cell_type": "code",
   "execution_count": 41,
   "metadata": {
    "collapsed": false
   },
   "outputs": [
    {
     "data": {
      "text/plain": [
       "0.0861914001144235"
      ]
     },
     "execution_count": 41,
     "metadata": {},
     "output_type": "execute_result"
    }
   ],
   "source": [
    "co_data.corr().values[0][1]"
   ]
  },
  {
   "cell_type": "code",
   "execution_count": 52,
   "metadata": {
    "collapsed": true
   },
   "outputs": [],
   "source": [
    "n_mrate=np.zeros(len(fre)-1)\n",
    "n_dicrate={}\n",
    "n_grorate=np.zeros(int(gronum1))\n",
    "for j in range(int(gronum1)):\n",
    "    for i in range(len(fre)-1):\n",
    "        n_mrate[i]=errate1[n_dic[i+1][j]].loc[fre[i+1]].mean()\n",
    "    n_dicrate[j]= copy.deepcopy(n_mrate)\n",
    "for k in n_dicrate:\n",
    "    n_grorate[k]=n_dicrate[k].mean()"
   ]
  },
  {
   "cell_type": "code",
   "execution_count": 53,
   "metadata": {
    "collapsed": false
   },
   "outputs": [
    {
     "data": {
      "image/png": "[encoded data removed]",
      "text/plain": [
       "<matplotlib.figure.Figure at 0x1f7c2d2e898>"
      ]
     },
     "metadata": {},
     "output_type": "display_data"
    }
   ],
   "source": [
    "num=np.arange(len(n_grorate))\n",
    "plt.bar(num,n_grorate, color = 'b')\n",
    "plt.show()"
   ]
  },
  {
   "cell_type": "code",
   "execution_count": 54,
   "metadata": {
    "collapsed": false
   },
   "outputs": [],
   "source": [
    "unitnet0=n_dicrate[49]-0.2\n",
    "unitnet=unitnet0.cumsum()\n",
    "unitnet=unitnet/100+1\n",
    "w_rate=w_rate500.cumsum()+1"
   ]
  },
  {
   "cell_type": "code",
   "execution_count": 55,
   "metadata": {
    "collapsed": false
   },
   "outputs": [
    {
     "data": {
      "image/png": "[encoded data removed]",
      "text/plain": [
       "<matplotlib.figure.Figure at 0x1f7c3081080>"
      ]
     },
     "metadata": {},
     "output_type": "display_data"
    }
   ],
   "source": [
    "plt.plot(unitnet,label='factor')\n",
    "plt.plot(w_rate.T.values[0][0:len(unitnet)],label='500')\n",
    "plt.legend(loc=0, numpoints=1)\n",
    "plt.show()"
   ]
  },
  {
   "cell_type": "code",
   "execution_count": 56,
   "metadata": {
    "collapsed": false
   },
   "outputs": [
    {
     "data": {
      "image/png": "[encoded data removed]",
      "text/plain": [
       "<matplotlib.figure.Figure at 0x1f7ad360c88>"
      ]
     },
     "metadata": {},
     "output_type": "display_data"
    }
   ],
   "source": [
    "plt.plot(unitnet-w_rate.T.values[0][0:len(unitnet)])\n",
    "plt.show()"
   ]
  },
  {
   "cell_type": "code",
   "execution_count": null,
   "metadata": {
    "collapsed": true
   },
   "outputs": [],
   "source": []
  }
 ],
 "metadata": {
  "kernelspec": {
   "display_name": "Python [conda root]",
   "language": "python",
   "name": "conda-root-py"
  },
  "language_info": {
   "codemirror_mode": {
    "name": "ipython",
    "version": 3
   },
   "file_extension": ".py",
   "mimetype": "text/x-python",
   "name": "python",
   "nbconvert_exporter": "python",
   "pygments_lexer": "ipython3",
   "version": "3.5.2"
  }
 },
 "nbformat": 4,
 "nbformat_minor": 2
}
