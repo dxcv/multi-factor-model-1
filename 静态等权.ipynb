{
 "cells": [
  {
   "cell_type": "code",
   "execution_count": 1,
   "metadata": {
    "collapsed": true
   },
   "outputs": [],
   "source": [
    "import os\n",
    "import xlrd\n",
    "from scipy import stats\n",
    "import matplotlib.pyplot as plt\n",
    "import numpy as np\n",
    "import pandas as pd\n",
    "import math\n",
    "import datetime as dt\n",
    "import copy\n",
    "import matplotlib.dates as mdate\n",
    "import scipy.optimize as spo\n",
    "from scipy.stats import norm\n",
    "import statsmodels.api as sm"
   ]
  },
  {
   "cell_type": "code",
   "execution_count": 2,
   "metadata": {
    "collapsed": true
   },
   "outputs": [],
   "source": [
    "def medianpeak(x):\n",
    "    y=np.copy(x)\n",
    "    ymedian=np.median(y)\n",
    "    zmid=np.median(np.abs(y-np.median(y)))\n",
    "    y[y<=ymedian-5.2*zmid]=(ymedian-5.2*zmid)\n",
    "    y[y>=ymedian+5.2*zmid]=(ymedian+5.2*zmid)\n",
    "    return y\n",
    "def meanadjust(x):\n",
    "    y=np.copy(x)\n",
    "    yme=np.median(y)\n",
    "    ytm=y-yme\n",
    "    return ytm\n",
    "\n",
    "def nondimensionalize(x):\n",
    "    y=np.copy(x)\n",
    "    ymean=np.mean(y)\n",
    "    ystd=np.std(y)\n",
    "    y=(y-ymean)/ystd\n",
    "    return y\n",
    "def dadjust(data):\n",
    "    data0=copy.deepcopy(data)\n",
    "    index1=data0.index.to_period(freq=frequency).values\n",
    "    fre=np.unique(index1)\n",
    "    data0.index=index1\n",
    "    data0.index=data0.index.to_series().astype(str).values\n",
    "    return data0"
   ]
  },
  {
   "cell_type": "code",
   "execution_count": 3,
   "metadata": {
    "collapsed": true
   },
   "outputs": [],
   "source": [
    "frequency='W'\n",
    "gronum1=100\n",
    "path1='C:\\\\Users\\\\wuboyuan\\\\Desktop\\\\data\\\\ir\\\\'"
   ]
  },
  {
   "cell_type": "code",
   "execution_count": 4,
   "metadata": {
    "collapsed": true
   },
   "outputs": [],
   "source": [
    "trdayfile='C:\\\\Users\\\\wuboyuan\\\\Desktop\\\\data\\\\mudata\\\\tradeday.csv'\n",
    "stfile='C:\\\\Users\\\\wuboyuan\\\\Desktop\\\\data\\\\mudata\\\\ST.csv'\n",
    "stand9500='C:\\\\Users\\\\wuboyuan\\\\Desktop\\\\data\\\\mudata\\\\stand.csv'\n",
    "closep='C:\\\\Users\\\\wuboyuan\\\\Desktop\\\\data\\\\mudata\\\\closeprice.csv'\n",
    "mvalue0='C:\\\\Users\\\\wuboyuan\\\\Desktop\\\\data\\\\mudata\\\\marketvalue.csv'\n",
    "trdaydata=pd.read_csv(trdayfile,parse_dates=True,index_col=0)\n",
    "u=trdaydata.index[0]\n",
    "trdaydata=trdaydata.T\n",
    "for i in range(len(trdaydata)):\n",
    "    y=trdaydata.iloc[i]\n",
    "    z=y[y==1].index\n",
    "    if len(z)>250:\n",
    "        if z[0]!=u:\n",
    "                y[z[0]:z[250]]=0\n",
    "        else:\n",
    "            y=y\n",
    "    elif len(z)==0:\n",
    "        y=y\n",
    "    else:\n",
    "        y[z[0]:]=0\n",
    "trdaydata=trdaydata.T\n",
    "trdaydata0=dadjust(trdaydata)\n",
    "stdata=pd.read_csv(stfile,parse_dates=True,index_col=0)\n",
    "stdata0=dadjust(stdata)\n",
    "stand00=pd.read_csv(stand9500,parse_dates=True,index_col=0)\n",
    "stand500=dadjust(stand00)\n",
    "closepr=pd.read_csv(closep,parse_dates=True,index_col=0)\n",
    "closeprice=dadjust(closepr)\n",
    "mvalue=pd.read_csv(mvalue0,parse_dates=True,index_col=0)\n",
    "mvalue=dadjust(mvalue)\n",
    "stfre=np.unique(stdata0.index)"
   ]
  },
  {
   "cell_type": "code",
   "execution_count": 5,
   "metadata": {
    "collapsed": true
   },
   "outputs": [],
   "source": [
    "for i in range(len(stfre)):\n",
    "    tradeday0=trdaydata0.loc[stfre[i]]\n",
    "    st0=stdata0.loc[stfre[i]]\n",
    "    wstand500=stand500.loc[stfre[i]]\n",
    "    #wcloseprice=closeprice.loc[stfre[i]]\n",
    "    l=len(pd.DataFrame(st0).T)\n",
    "    if i ==0:\n",
    "        w_stand500=pd.DataFrame(wstand500).T\n",
    "        tradeday=pd.DataFrame(tradeday0).T\n",
    "        st=pd.DataFrame(st0).T\n",
    "        #w_closeprice=pd.DataFrame(wcloseprice).T\n",
    "    else:\n",
    "        if l!=1:\n",
    "            tradeday1=tradeday0[len(tradeday0)-1:len(tradeday0)]\n",
    "            tradeday=tradeday.append(tradeday1)\n",
    "            st1=st0[len(st0)-1:len(st0)]\n",
    "            #wcloseprice1=wcloseprice[len(wcloseprice)-1:len(wcloseprice)]\n",
    "            #w_closeprice=w_closeprice.append(wcloseprice1)\n",
    "            st= st.append(st1)\n",
    "            wstand5001= wstand500[len(wstand500)-1:len(wstand500)]\n",
    "            w_stand500=w_stand500.append(wstand5001)\n",
    "        else:\n",
    "            tradeday2=pd.DataFrame(tradeday0).T\n",
    "            tradeday=tradeday.append(tradeday2)\n",
    "            st2=pd.DataFrame(st0).T\n",
    "            st= st.append(st2)\n",
    "            #wcloseprice2=pd.DataFrame(wcloseprice).T\n",
    "            #w_closeprice=w_closeprice.append(wcloseprice2)\n",
    "            wstand5002=pd.DataFrame(wstand500).T\n",
    "            w_stand500=w_stand500.append(wstand5002)   "
   ]
  },
  {
   "cell_type": "code",
   "execution_count": 6,
   "metadata": {
    "collapsed": true
   },
   "outputs": [],
   "source": [
    "rate500=(stand500-stand500.shift(1))/stand500.shift(1)\n",
    "closerate=(closeprice-closeprice.shift(1))/closeprice.shift(1)\n",
    "w_rate500=(w_stand500-w_stand500.shift(1))/w_stand500.shift(1)\n",
    "w_rate500=w_rate500[1:]"
   ]
  },
  {
   "cell_type": "code",
   "execution_count": 7,
   "metadata": {
    "collapsed": true
   },
   "outputs": [],
   "source": [
    "ratefile='C:\\\\Users\\\\wuboyuan\\\\Desktop\\\\data\\\\mudata\\\\rate.csv'\n",
    "errate11=pd.read_csv(ratefile,parse_dates=True,index_col=0)\n",
    "errate1=dadjust(errate11)"
   ]
  },
  {
   "cell_type": "code",
   "execution_count": 13,
   "metadata": {
    "collapsed": true
   },
   "outputs": [],
   "source": [
    "file={}\n",
    "name1=os.listdir(path1)"
   ]
  },
  {
   "cell_type": "code",
   "execution_count": 14,
   "metadata": {
    "collapsed": true
   },
   "outputs": [],
   "source": [
    "file={}\n",
    "data={}\n",
    "key=[]\n",
    "data0={}\n",
    "fre={}\n",
    "for i in range(len(name1)):\n",
    "    file[i]=os.path.join(path1,name1[i])\n",
    "    data[name1[i][0:-4]]=pd.read_csv(file[i],parse_dates=True,index_col=0)\n",
    "    key.append(name1[i][0:-4])\n",
    "    data0[key[i]]=dadjust(data[key[i]])\n",
    "fre=np.unique(data0[key[len(name1)-1]].index)"
   ]
  },
  {
   "cell_type": "code",
   "execution_count": 15,
   "metadata": {
    "collapsed": true
   },
   "outputs": [],
   "source": [
    "fre=np.unique(data0[key[len(name1)-1]].index)\n",
    "dic={}\n",
    "group={}\n",
    "n_group={}\n",
    "n_dic={}"
   ]
  },
  {
   "cell_type": "code",
   "execution_count": 16,
   "metadata": {
    "collapsed": false
   },
   "outputs": [
    {
     "data": {
      "text/plain": [
       "{0: 'C:\\\\Users\\\\wuboyuan\\\\Desktop\\\\data\\\\ir\\\\cmvalue.csv',\n",
       " 1: 'C:\\\\Users\\\\wuboyuan\\\\Desktop\\\\data\\\\ir\\\\开盘价.csv'}"
      ]
     },
     "execution_count": 16,
     "metadata": {},
     "output_type": "execute_result"
    }
   ],
   "source": [
    "file"
   ]
  },
  {
   "cell_type": "code",
   "execution_count": 17,
   "metadata": {
    "collapsed": false
   },
   "outputs": [],
   "source": [
    "all_index={}\n",
    "for i in range(len(fre)+1):\n",
    "    tradeday0=tradeday.loc[fre[i-1]]\n",
    "    dindex=tradeday0[tradeday0!=0].T.dropna().index\n",
    "    ust=st.loc[fre[i-1]]\n",
    "    ust=ust[ust!=1]\n",
    "    d_gindex=ust[dindex].dropna().index\n",
    "    if i==0:\n",
    "        dic[i]=0\n",
    "    else:\n",
    "        for mu in range(len(key)):\n",
    "            data1=data0[key[mu]].loc[fre[i-1]]\n",
    "            data1=data1[d_gindex]\n",
    "            data1=data1.dropna().astype(float)\n",
    "            #data1=pd.DataFrame(data1).apply(meanadjust).abs().apply(medianpeak).apply(nondimensionalize)\n",
    "            data1=pd.DataFrame(data1).apply(medianpeak).apply(nondimensionalize)\n",
    "            if mu==0:\n",
    "                n_data=data1\n",
    "            else:\n",
    "                n_data=n_data+data1\n",
    "        n_data=n_data.dropna().sort_values(by=fre[i-1],ascending=False)\n",
    "        n_l=len(n_data)\n",
    "        for j in range(int(gronum1)):\n",
    "                n_group[j]=n_data[round(((j)/int(gronum1))*n_l):round(((j+1)/int(gronum1))*n_l)].index\n",
    "        n_dic[i]=copy.deepcopy(n_group)"
   ]
  },
  {
   "cell_type": "code",
   "execution_count": 18,
   "metadata": {
    "collapsed": true
   },
   "outputs": [],
   "source": [
    "n_mrate=np.zeros(len(fre)-1)\n",
    "n_dicrate={}\n",
    "n_grorate=np.zeros(int(gronum1))\n",
    "for j in range(int(gronum1)):\n",
    "    for i in range(len(fre)-1):\n",
    "        n_mrate[i]=errate1[n_dic[i+1][j]].loc[fre[i+1]].mean()\n",
    "    n_dicrate[j]= copy.deepcopy(n_mrate)\n",
    "for k in n_dicrate:\n",
    "    n_grorate[k]=n_dicrate[k].mean()"
   ]
  },
  {
   "cell_type": "code",
   "execution_count": 19,
   "metadata": {
    "collapsed": false
   },
   "outputs": [
    {
     "data": {
      "image/png": "[encoded data removed]",
      "text/plain": [
       "<matplotlib.figure.Figure at 0x2160b149a20>"
      ]
     },
     "metadata": {},
     "output_type": "display_data"
    }
   ],
   "source": [
    "#plt.figure(13)\n",
    "num=np.arange(len(n_grorate))\n",
    "plt.bar(num,n_grorate, color = 'b')\n",
    "#photo1='C:\\\\Users\\\\wuboyuan\\\\Desktop\\\\data\\\\cph\\\\单调性.png'\n",
    "#plt.savefig(photo1)\n",
    "plt.show()"
   ]
  },
  {
   "cell_type": "code",
   "execution_count": 20,
   "metadata": {
    "collapsed": true
   },
   "outputs": [],
   "source": [
    "unitnet0=n_dicrate[99]-0.2\n",
    "unitnet=unitnet0.cumsum()\n",
    "unitnet=unitnet/100+1\n",
    "w_rate=w_rate500.cumsum()+1"
   ]
  },
  {
   "cell_type": "code",
   "execution_count": 21,
   "metadata": {
    "collapsed": false
   },
   "outputs": [
    {
     "data": {
      "image/png": "[encoded data removed]",
      "text/plain": [
       "<matplotlib.figure.Figure at 0x21615ccb1d0>"
      ]
     },
     "metadata": {},
     "output_type": "display_data"
    }
   ],
   "source": [
    "plt.figure(11)\n",
    "plt.plot(unitnet,label='factor')\n",
    "plt.plot(w_rate.T.values[0][0:len(unitnet)],label='500')\n",
    "plt.legend(loc=0, numpoints=1)\n",
    "plt.show()\n",
    "#photo1='C:\\\\Users\\\\wuboyuan\\\\Desktop\\\\data\\\\cph\\\\净值.png'\n",
    "#plt.savefig(photo1)"
   ]
  },
  {
   "cell_type": "code",
   "execution_count": 22,
   "metadata": {
    "collapsed": false
   },
   "outputs": [
    {
     "data": {
      "image/png": "[encoded data removed]",
      "text/plain": [
       "<matplotlib.figure.Figure at 0x21615cb69e8>"
      ]
     },
     "metadata": {},
     "output_type": "display_data"
    }
   ],
   "source": [
    "plt.figure(12)\n",
    "plt.plot(unitnet-w_rate.T.values[0][0:len(unitnet)])\n",
    "plt.show()\n",
    "#photo1='C:\\\\Users\\\\wuboyuan\\\\Desktop\\\\data\\\\cph\\\\超额净值.png'\n",
    "#plt.savefig(photo1)"
   ]
  },
  {
   "cell_type": "code",
   "execution_count": null,
   "metadata": {
    "collapsed": true
   },
   "outputs": [],
   "source": []
  }
 ],
 "metadata": {
  "kernelspec": {
   "display_name": "Python [conda root]",
   "language": "python",
   "name": "conda-root-py"
  },
  "language_info": {
   "codemirror_mode": {
    "name": "ipython",
    "version": 3
   },
   "file_extension": ".py",
   "mimetype": "text/x-python",
   "name": "python",
   "nbconvert_exporter": "python",
   "pygments_lexer": "ipython3",
   "version": "3.5.2"
  }
 },
 "nbformat": 4,
 "nbformat_minor": 2
}
