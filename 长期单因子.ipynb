{
 "cells": [
  {
   "cell_type": "code",
   "execution_count": 1,
   "metadata": {
    "collapsed": true
   },
   "outputs": [],
   "source": [
    "import xlrd\n",
    "from scipy import stats\n",
    "import matplotlib.pyplot as plt\n",
    "import numpy as np\n",
    "import pandas as pd\n",
    "import math\n",
    "import datetime as dt\n",
    "import copy\n",
    "import matplotlib.dates as mdate\n",
    "import time"
   ]
  },
  {
   "cell_type": "code",
   "execution_count": 2,
   "metadata": {
    "collapsed": false
   },
   "outputs": [],
   "source": [
    "def medianpeak(x):\n",
    "    y=np.copy(x)\n",
    "    ymedian=np.median(y)\n",
    "    zmid=np.median(np.abs(y-np.median(y)))\n",
    "    y[y<=ymedian-5.2*zmid]=(ymedian-5.2*zmid)\n",
    "    y[y>=ymedian+5.2*zmid]=(ymedian+5.2*zmid)\n",
    "    return y\n",
    "def nondimensionalize(x):\n",
    "    y=np.copy(x)\n",
    "    ymean=np.mean(y)\n",
    "    ystd=np.std(y)\n",
    "    y=(y-ymean)/ystd\n",
    "    return y\n",
    "def dadjust(data):\n",
    "    data0=copy.deepcopy(data)\n",
    "    index1=data0.index.to_period(freq=frequency).values\n",
    "    fre=np.unique(index1)\n",
    "    data0.index=index1\n",
    "    data0.index=data0.index.to_series().astype(str).values\n",
    "    return data0"
   ]
  },
  {
   "cell_type": "code",
   "execution_count": 3,
   "metadata": {
    "collapsed": false
   },
   "outputs": [
    {
     "name": "stdout",
     "output_type": "stream",
     "text": [
      "W\n"
     ]
    }
   ],
   "source": [
    "frequency=input()"
   ]
  },
  {
   "cell_type": "markdown",
   "metadata": {},
   "source": [
    "# 读取需要数据"
   ]
  },
  {
   "cell_type": "code",
   "execution_count": 21,
   "metadata": {
    "collapsed": false
   },
   "outputs": [],
   "source": [
    "trdayfile='C:\\\\Users\\\\wuboyuan\\\\Desktop\\\\data\\\\mudata\\\\tradeday.csv'\n",
    "stfile='C:\\\\Users\\\\wuboyuan\\\\Desktop\\\\data\\\\mudata\\\\ST.csv'\n",
    "stand9500='C:\\\\Users\\\\wuboyuan\\\\Desktop\\\\data\\\\mudata\\\\stand.csv'\n",
    "closep='C:\\\\Users\\\\wuboyuan\\\\Desktop\\\\data\\\\mudata\\\\closeprice.csv'\n",
    "trdaydata=pd.read_csv(trdayfile,parse_dates=True,index_col=0)\n",
    "u=trdaydata.index[0]\n",
    "trdaydata=trdaydata.T\n",
    "for i in range(len(trdaydata)):\n",
    "    y=trdaydata.iloc[i]\n",
    "    z=y[y==1].index\n",
    "    if len(z)>250:\n",
    "        if z[0]!=u:\n",
    "                y[z[0]:z[250]]=0\n",
    "        else:\n",
    "            y=y\n",
    "    elif len(z)==0:\n",
    "        y=y\n",
    "    else:\n",
    "        y[z[0]:]=0\n",
    "trdaydata=trdaydata.T\n",
    "trdaydata0=dadjust(trdaydata)\n",
    "stdata=pd.read_csv(stfile,parse_dates=True,index_col=0)\n",
    "stdata0=dadjust(stdata)\n",
    "stand00=pd.read_csv(stand9500,parse_dates=True,index_col=0)\n",
    "stand500=dadjust(stand00)\n",
    "closepr=pd.read_csv(closep,parse_dates=True,index_col=0)\n",
    "closeprice=dadjust(closepr)\n",
    "stfre=np.unique(stdata0.index)"
   ]
  },
  {
   "cell_type": "markdown",
   "metadata": {},
   "source": [
    "# 日数据转化为周数据"
   ]
  },
  {
   "cell_type": "code",
   "execution_count": 5,
   "metadata": {
    "collapsed": false
   },
   "outputs": [],
   "source": [
    "for i in range(len(stfre)):\n",
    "    tradeday0=trdaydata0.loc[stfre[i]]\n",
    "    st0=stdata0.loc[stfre[i]]\n",
    "    wstand500=stand500.loc[stfre[i]]\n",
    "    #wcloseprice=closeprice.loc[stfre[i]]\n",
    "    l=len(pd.DataFrame(st0).T)\n",
    "    if i ==0:\n",
    "        w_stand500=pd.DataFrame(wstand500).T\n",
    "        tradeday=pd.DataFrame(tradeday0).T\n",
    "        st=pd.DataFrame(st0).T\n",
    "        #w_closeprice=pd.DataFrame(wcloseprice).T\n",
    "    else:\n",
    "        if l!=1:\n",
    "            tradeday1=tradeday0[len(tradeday0)-1:len(tradeday0)]\n",
    "            tradeday=tradeday.append(tradeday1)\n",
    "            st1=st0[len(st0)-1:len(st0)]\n",
    "            #wcloseprice1=wcloseprice[len(wcloseprice)-1:len(wcloseprice)]\n",
    "            #w_closeprice=w_closeprice.append(wcloseprice1)\n",
    "            st= st.append(st1)\n",
    "            wstand5001= wstand500[len(wstand500)-1:len(wstand500)]\n",
    "            w_stand500=w_stand500.append(wstand5001)\n",
    "        else:\n",
    "            tradeday2=pd.DataFrame(tradeday0).T\n",
    "            tradeday=tradeday.append(tradeday2)\n",
    "            st2=pd.DataFrame(st0).T\n",
    "            st= st.append(st2)\n",
    "            #wcloseprice2=pd.DataFrame(wcloseprice).T\n",
    "            #w_closeprice=w_closeprice.append(wcloseprice2)\n",
    "            wstand5002=pd.DataFrame(wstand500).T\n",
    "            w_stand500=w_stand500.append(wstand5002)           "
   ]
  },
  {
   "cell_type": "markdown",
   "metadata": {},
   "source": [
    "# 每日与周期收益率"
   ]
  },
  {
   "cell_type": "code",
   "execution_count": 6,
   "metadata": {
    "collapsed": false
   },
   "outputs": [],
   "source": [
    "rate500=(stand500-stand500.shift(1))/stand500.shift(1)\n",
    "closerate=(closeprice-closeprice.shift(1))/closeprice.shift(1)\n",
    "w_rate500=(w_stand500-w_stand500.shift(1))/w_stand500.shift(1)\n",
    "w_rate500=w_rate500[1:]"
   ]
  },
  {
   "cell_type": "code",
   "execution_count": 7,
   "metadata": {
    "collapsed": false
   },
   "outputs": [
    {
     "name": "stdout",
     "output_type": "stream",
     "text": [
      "marketvalue\n"
     ]
    }
   ],
   "source": [
    "file='C:\\\\Users\\\\wuboyuan\\\\Desktop\\\\data\\\\mudata\\\\'+input()+'.csv'"
   ]
  },
  {
   "cell_type": "code",
   "execution_count": 8,
   "metadata": {
    "collapsed": false
   },
   "outputs": [
    {
     "name": "stdout",
     "output_type": "stream",
     "text": [
      "100\n"
     ]
    }
   ],
   "source": [
    "gronum=input()"
   ]
  },
  {
   "cell_type": "code",
   "execution_count": 9,
   "metadata": {
    "collapsed": true
   },
   "outputs": [],
   "source": [
    "data=pd.read_csv(file,parse_dates=True,index_col=0)\n",
    "data0=dadjust(data)\n",
    "data0=data0.astype(float)\n",
    "fre=np.unique(data0.index)"
   ]
  },
  {
   "cell_type": "code",
   "execution_count": 10,
   "metadata": {
    "collapsed": false
   },
   "outputs": [],
   "source": [
    "dic={}\n",
    "group={}\n",
    "for i in range(len(fre)+1):\n",
    "    tradeday0=tradeday.loc[fre[i-1]]\n",
    "    dindex=tradeday0[tradeday0!=0].T.dropna().index\n",
    "    ust=st.loc[fre[i-1]]\n",
    "    ust=ust[ust!=1]\n",
    "    d_gindex=ust[dindex].dropna().index\n",
    "    data1=data0.loc[fre[i-1]]\n",
    "    data1=data1[d_gindex]\n",
    "    data1=data1.dropna().astype(float)\n",
    "    data1=pd.DataFrame(data1)\n",
    "    sdata=data1.apply(medianpeak).apply(nondimensionalize).sort_values(by=fre[i-1],ascending=False)\n",
    "    l=len(sdata)\n",
    "    if i ==0:\n",
    "            dic[i]=0\n",
    "    else:\n",
    "        for j in range(int(gronum)):\n",
    "            group[j]=sdata[round(((j)/int(gronum))*l):round(((j+1)/int(gronum))*l)].index\n",
    "        dic[i]=copy.deepcopy(group)"
   ]
  },
  {
   "cell_type": "code",
   "execution_count": 12,
   "metadata": {
    "collapsed": false
   },
   "outputs": [],
   "source": [
    "ratefile='C:\\\\Users\\\\wuboyuan\\\\Desktop\\\\data\\\\mudata\\\\rate.csv'\n",
    "errate11=pd.read_csv(ratefile,parse_dates=True,index_col=0)\n",
    "errate1=dadjust(errate11)"
   ]
  },
  {
   "cell_type": "code",
   "execution_count": 13,
   "metadata": {
    "collapsed": false
   },
   "outputs": [],
   "source": [
    "mrate=np.zeros(len(fre)-1)\n",
    "dicrate={}\n",
    "grorate=np.zeros(int(gronum))\n",
    "for j in range(int(gronum)):\n",
    "    for i in range(len(fre)-1):\n",
    "        mrate[i]=errate1[dic[i+1][j]].loc[fre[i+1]].mean()\n",
    "    dicrate[j]= copy.deepcopy(mrate)\n",
    "for key in dicrate:\n",
    "    grorate[key]=dicrate[key].mean()"
   ]
  },
  {
   "cell_type": "code",
   "execution_count": 14,
   "metadata": {
    "collapsed": false,
    "scrolled": true
   },
   "outputs": [
    {
     "data": {
      "image/png": "[encoded data removed]",
      "text/plain": [
       "<matplotlib.figure.Figure at 0x216862a19e8>"
      ]
     },
     "metadata": {},
     "output_type": "display_data"
    }
   ],
   "source": [
    "num=np.arange(len(grorate))\n",
    "plt.bar(num,grorate, color = 'b')\n",
    "plt.show()"
   ]
  },
  {
   "cell_type": "code",
   "execution_count": 15,
   "metadata": {
    "collapsed": false
   },
   "outputs": [
    {
     "data": {
      "image/png": "[encoded data removed]",
      "text/plain": [
       "<matplotlib.figure.Figure at 0x216862a16a0>"
      ]
     },
     "metadata": {},
     "output_type": "display_data"
    }
   ],
   "source": [
    "plt.plot(dicrate[99]/100)\n",
    "plt.show()"
   ]
  },
  {
   "cell_type": "code",
   "execution_count": 16,
   "metadata": {
    "collapsed": true
   },
   "outputs": [],
   "source": [
    "ic=np.zeros(len(fre)-1)\n",
    "for i in range(len(fre)-1):\n",
    "    data2=data0.loc[fre[i]]\n",
    "    icdata=data2[dic[i+1][0]].values\n",
    "    icrate=errate1[dic[i+1][0]].loc[fre[i+1]].values/100\n",
    "    ic[i]=np.corrcoef(icdata,icrate)[1][0]"
   ]
  },
  {
   "cell_type": "code",
   "execution_count": 17,
   "metadata": {
    "collapsed": false
   },
   "outputs": [
    {
     "data": {
      "image/png": "[encoded data removed]",
      "text/plain": [
       "<matplotlib.figure.Figure at 0x216865df470>"
      ]
     },
     "metadata": {},
     "output_type": "display_data"
    }
   ],
   "source": [
    "num2=np.arange(len(ic))\n",
    "plt.bar(num2,ic) #排序ic\n",
    "plt.show()"
   ]
  },
  {
   "cell_type": "code",
   "execution_count": 18,
   "metadata": {
    "collapsed": false
   },
   "outputs": [],
   "source": [
    "unitnet0=dicrate[99]-0.2\n",
    "unitnet=unitnet0.cumsum()\n",
    "unitnet=unitnet/100+1\n",
    "w_rate=w_rate500.cumsum()+1"
   ]
  },
  {
   "cell_type": "code",
   "execution_count": 19,
   "metadata": {
    "collapsed": false
   },
   "outputs": [
    {
     "data": {
      "image/png": "[encoded data removed]",
      "text/plain": [
       "<matplotlib.figure.Figure at 0x216866ea1d0>"
      ]
     },
     "metadata": {},
     "output_type": "display_data"
    }
   ],
   "source": [
    "#%matplotlib notebook\n",
    "plt.plot(unitnet,label='factor')\n",
    "plt.plot(w_rate.T.values[0],label='500')\n",
    "plt.show()"
   ]
  },
  {
   "cell_type": "code",
   "execution_count": 20,
   "metadata": {
    "collapsed": false,
    "scrolled": false
   },
   "outputs": [
    {
     "data": {
      "image/png": "[encoded data removed]",
      "text/plain": [
       "<matplotlib.figure.Figure at 0x216866dd2e8>"
      ]
     },
     "metadata": {},
     "output_type": "display_data"
    }
   ],
   "source": [
    "plt.plot(unitnet-w_rate.T.values[0],label='500')\n",
    "plt.show()"
   ]
  },
  {
   "cell_type": "code",
   "execution_count": 177,
   "metadata": {
    "collapsed": false
   },
   "outputs": [],
   "source": [
    "'''import codecs\n",
    "with open('C:\\\\Users\\\\wuboyuan\\\\Desktop\\\\data\\\\mudata\\\\rate.csv', 'w') as f:\n",
    "    #f.write(codecs.BOM_UTF8)\n",
    "    writer = csv.writer(f,lineterminator='\\n')\n",
    "    writer.writerow(trdaydata.T.index)\n",
    "    writer.writerows(trdaydata.values)\n",
    "'''"
   ]
  },
  {
   "cell_type": "code",
   "execution_count": null,
   "metadata": {
    "collapsed": true
   },
   "outputs": [],
   "source": []
  }
 ],
 "metadata": {
  "kernelspec": {
   "display_name": "Python [conda root]",
   "language": "python",
   "name": "conda-root-py"
  },
  "language_info": {
   "codemirror_mode": {
    "name": "ipython",
    "version": 3
   },
   "file_extension": ".py",
   "mimetype": "text/x-python",
   "name": "python",
   "nbconvert_exporter": "python",
   "pygments_lexer": "ipython3",
   "version": "3.5.2"
  }
 },
 "nbformat": 4,
 "nbformat_minor": 2
}
