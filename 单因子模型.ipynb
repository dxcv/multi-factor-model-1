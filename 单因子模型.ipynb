{
 "cells": [
  {
   "cell_type": "code",
   "execution_count": 80,
   "metadata": {
    "collapsed": true
   },
   "outputs": [],
   "source": [
    "import xlrd\n",
    "from scipy import stats\n",
    "import matplotlib.pyplot as plt\n",
    "import numpy as np\n",
    "import pandas as pd\n",
    "import math\n",
    "import datetime as dt\n",
    "import copy\n",
    "import matplotlib.dates as mdate\n",
    "import time\n",
    "ind=0"
   ]
  },
  {
   "cell_type": "markdown",
   "metadata": {},
   "source": [
    "# 中位数极值法"
   ]
  },
  {
   "cell_type": "code",
   "execution_count": 2,
   "metadata": {
    "collapsed": true
   },
   "outputs": [],
   "source": [
    "def medianpeak(x):\n",
    "    y=np.copy(x)\n",
    "    ymedian=np.median(y)\n",
    "    zmid=np.median(np.abs(y-np.median(y)))\n",
    "    y[y<=ymedian-5.2*zmid]=(ymedian-5.2*zmid)\n",
    "    y[y>=ymedian+5.2*zmid]=(ymedian+5.2*zmid)\n",
    "    return 1/y"
   ]
  },
  {
   "cell_type": "markdown",
   "metadata": {},
   "source": [
    "# 无量纲化处理"
   ]
  },
  {
   "cell_type": "code",
   "execution_count": 3,
   "metadata": {
    "collapsed": true
   },
   "outputs": [],
   "source": [
    "def nondimensionalize(x):\n",
    "    y=np.copy(x)\n",
    "    ymean=np.mean(y)\n",
    "    ystd=np.std(y)\n",
    "    y=(y-ymean)/ystd\n",
    "    return y"
   ]
  },
  {
   "cell_type": "markdown",
   "metadata": {},
   "source": [
    "# 请输入时间频率 分组 "
   ]
  },
  {
   "cell_type": "code",
   "execution_count": 4,
   "metadata": {
    "collapsed": false
   },
   "outputs": [
    {
     "name": "stdout",
     "output_type": "stream",
     "text": [
      "M\n",
      "10\n"
     ]
    }
   ],
   "source": [
    "frequency=input()\n",
    "gronum=input()"
   ]
  },
  {
   "cell_type": "markdown",
   "metadata": {},
   "source": [
    "# 因子名称"
   ]
  },
  {
   "cell_type": "code",
   "execution_count": 5,
   "metadata": {
    "collapsed": false
   },
   "outputs": [
    {
     "name": "stdout",
     "output_type": "stream",
     "text": [
      "成交量\n",
      "cjl\n"
     ]
    }
   ],
   "source": [
    "factorname=input()\n",
    "file='C:\\\\Users\\\\wuboyuan\\\\Desktop\\\\data\\\\'+input()+'.csv'"
   ]
  },
  {
   "cell_type": "markdown",
   "metadata": {},
   "source": [
    "# 时间调整函数"
   ]
  },
  {
   "cell_type": "code",
   "execution_count": 170,
   "metadata": {
    "collapsed": false
   },
   "outputs": [],
   "source": [
    "def dadjust(data):\n",
    "    data0=copy.deepcopy(data)\n",
    "    index1=data0.index.to_period(freq=frequency).values\n",
    "    fre=np.unique(index1)\n",
    "    data0.index=index1\n",
    "    data0.index=data0.index.to_series().astype(str).values\n",
    "    return data0"
   ]
  },
  {
   "cell_type": "code",
   "execution_count": 177,
   "metadata": {
    "collapsed": false,
    "scrolled": false
   },
   "outputs": [],
   "source": [
    "data=pd.read_csv(file,parse_dates=True,index_col=0)\n",
    "data0=dadjust(data)\n",
    "fre=np.unique(data0.index)"
   ]
  },
  {
   "cell_type": "code",
   "execution_count": 178,
   "metadata": {
    "collapsed": false
   },
   "outputs": [],
   "source": [
    "dic={}\n",
    "group={}\n",
    "for i in range(len(fre)+1):\n",
    "        data1=data0.loc[fre[i-1]]\n",
    "        data1=data1[data1!=0]\n",
    "        data1=data1[len(data1)-1:len(data1)].T.dropna()\n",
    "        sdata=data1.apply(medianpeak).sort_values(by=fre[i-1],ascending=False)\n",
    "        l=len(sdata)\n",
    "        if i ==0:\n",
    "            dic[i]=0\n",
    "        else:\n",
    "            for j in range(int(gronum)):\n",
    "                group[j]=sdata[round(((j)/10)*l):round(((j+1)/10)*l)].index\n",
    "            dic[i]=copy.deepcopy(group)"
   ]
  },
  {
   "cell_type": "markdown",
   "metadata": {},
   "source": [
    "# 中证500收益率，组合收益率，超额收益，相对收益按周期进行 总周期平均水平"
   ]
  },
  {
   "cell_type": "markdown",
   "metadata": {},
   "source": [
    "# 每日收益率"
   ]
  },
  {
   "cell_type": "code",
   "execution_count": 179,
   "metadata": {
    "collapsed": false
   },
   "outputs": [],
   "source": [
    "errate11=pd.read_csv('C:\\\\Users\\\\wuboyuan\\\\Desktop\\\\data\\\\spj.csv',parse_dates=True,index_col=0)\n",
    "errate1=dadjust(errate11)\n",
    "indexchina1=pd.read_csv('C:\\\\Users\\\\wuboyuan\\\\Desktop\\\\data\\\\000905.csv',parse_dates=True,index_col=0)\n",
    "indexchina=dadjust(indexchina1)\n",
    "errate=(errate1-errate1.shift(1))/errate1.shift(1)\n",
    "errate=errate[1:]\n",
    "errate500=(indexchina-indexchina.shift(1))/indexchina.shift(1)\n",
    "errate500=errate500[1:]"
   ]
  },
  {
   "cell_type": "markdown",
   "metadata": {},
   "source": [
    "# 周期收益率"
   ]
  },
  {
   "cell_type": "code",
   "execution_count": 180,
   "metadata": {
    "collapsed": false
   },
   "outputs": [],
   "source": [
    "for i in range(len(fre)):\n",
    "    if i ==0:\n",
    "        cdrate=0\n",
    "        indec500=0\n",
    "    else:\n",
    "        u=len(errate1.loc[fre[i-1]])\n",
    "        m=len(errate1.loc[fre[i]])\n",
    "        rate0=errate1.loc[fre[i-1]]\n",
    "        rate0=rate0[u-1:u]\n",
    "        rate50=indexchina.loc[fre[i-1]][u-1:u]\n",
    "        rate1=errate1.loc[fre[i]]\n",
    "        rate1=rate1[m-1:m]\n",
    "        rate510=indexchina.loc[fre[i]][m-1:m]\n",
    "        rate=rate0.append(rate1)\n",
    "        rate500=rate50.append(rate510)\n",
    "        rate=(rate-rate.shift(1))/rate.shift(1)\n",
    "        rate500=(rate500-rate500.shift(1))/rate500.shift(1)\n",
    "        rate=rate[1:]\n",
    "        rate500=rate500[1:]\n",
    "        cdrate0=copy.deepcopy(rate)\n",
    "        rate501=copy.deepcopy(rate500)\n",
    "        if i==1:\n",
    "            cdrate=cdrate0\n",
    "            cdrate500=rate501\n",
    "        else:\n",
    "            cdrate=cdrate.append(cdrate0)\n",
    "            cdrate500=cdrate500.append(rate501)"
   ]
  },
  {
   "cell_type": "code",
   "execution_count": 181,
   "metadata": {
    "collapsed": false
   },
   "outputs": [
    {
     "data": {
      "text/plain": [
       "array([ 0.0170234 ,  0.01384998,  0.01325957,  0.01157308,  0.01404559,\n",
       "        0.01372585,  0.01610416,  0.01175107,  0.0087621 , -0.00565498])"
      ]
     },
     "execution_count": 181,
     "metadata": {},
     "output_type": "execute_result"
    }
   ],
   "source": [
    "mrate=np.zeros(len(fre)-1)\n",
    "dicrate={}\n",
    "grorate=np.zeros(int(gronum))\n",
    "grorate500=np.zeros(int(gronum))\n",
    "for j in range(int(gronum)):\n",
    "    for i in range(len(fre)-1):\n",
    "        mrate[i]=cdrate[dic[i+1][j]].loc[fre[i+1]].mean()\n",
    "    dicrate[j]= copy.deepcopy(mrate)\n",
    "for key in dicrate:\n",
    "    grorate[key]=dicrate[key].mean()\n",
    "    grorate500[key]=dicrate[key].mean()-cdrate500.mean()\n",
    "grorate0=np.hstack((grorate,cdrate500.mean().values[0]))\n",
    "num=np.arange(len(grorate0))\n",
    "num1=np.arange(len(grorate500))\n",
    "grorate"
   ]
  },
  {
   "cell_type": "markdown",
   "metadata": {},
   "source": [
    "# 组合 超额IC"
   ]
  },
  {
   "cell_type": "code",
   "execution_count": 182,
   "metadata": {
    "collapsed": false
   },
   "outputs": [],
   "source": [
    "ic=np.zeros(len(fre)-1)\n",
    "ic500=np.zeros(len(fre)-1)\n",
    "icde=np.zeros(len(fre)-1)\n",
    "for i in range(len(fre)-1):\n",
    "    data2=data0.loc[fre[i]]\n",
    "    data2=data2[len(data2)-1:len(data2)]\n",
    "    icdata=data2[dic[i+1][0]].values\n",
    "    icrate=cdrate[dic[i+1][0]].loc[fre[i+1]].values\n",
    "    icdely=cdrate[dic[1][0]].loc[fre[i+1]].values\n",
    "    icrate500=cdrate[dic[i+1][0]].loc[fre[i+1]].values-cdrate500.loc[fre[i+1]].values\n",
    "    datarank0=np.arange(len(icdely)+1)[1:]\n",
    "    datarank=np.arange(len(icrate)+1)[1:]\n",
    "    ic[i]=np.corrcoef(datarank,icrate500)[1][0]\n",
    "    ic500[i]=np.corrcoef(icdata,icrate500)[1][0]\n",
    "    icde[i]=np.corrcoef(datarank0,icdely)[1][0]"
   ]
  },
  {
   "cell_type": "markdown",
   "metadata": {},
   "source": [
    "# 胜率 每日 周期"
   ]
  },
  {
   "cell_type": "code",
   "execution_count": 184,
   "metadata": {
    "collapsed": false
   },
   "outputs": [
    {
     "data": {
      "text/plain": [
       "'for i in range(len(fre)-1):\\n    v=vrate.loc[fre[i+1]]\\n    vm[i]=v[v>0].count()/v.count()\\nplt.plot(vm)\\nplt.show()'"
      ]
     },
     "execution_count": 184,
     "metadata": {},
     "output_type": "execute_result"
    }
   ],
   "source": [
    "vm=np.zeros(len(fre)-1)\n",
    "for i in range(len(fre)-1):\n",
    "    vrate1=copy.deepcopy(errate[dic[i+1][0]].loc[fre[i+1]].T.mean())\n",
    "    if i==0:\n",
    "        vrate=copy.deepcopy(vrate1)\n",
    "    else:\n",
    "        vrate=vrate.append(vrate1)\n",
    "victory=vrate[vrate>0].count()/vrate.count()#组合每日胜率\n",
    "\n",
    "victoryclc=len(dicrate[0][dicrate[0]>0])/len(dicrate[0]) #组合每月胜率\n",
    "\n",
    "vrate500=vrate.values-errate500.loc[fre[1:]].values.T[0]\n",
    "\n",
    "victory500=len(vrate500[vrate500>0])/len(vrate500) #每日超额胜率\n",
    "\n",
    "vclc=dicrate[0]-cdrate500.values.T[0] \n",
    "\n",
    "victoryclc500=len(vclc[vclc>0])/len(vclc) #月超额胜率\n",
    "\n",
    "#每月胜率走势图\n",
    "\"\"\"for i in range(len(fre)-1):\n",
    "    v=vrate.loc[fre[i+1]]\n",
    "    vm[i]=v[v>0].count()/v.count()\n",
    "plt.plot(vm)\n",
    "plt.show()\"\"\""
   ]
  },
  {
   "cell_type": "markdown",
   "metadata": {},
   "source": [
    "# 平均收益率 超额收益率 标准差"
   ]
  },
  {
   "cell_type": "code",
   "execution_count": 186,
   "metadata": {
    "collapsed": false
   },
   "outputs": [
    {
     "data": {
      "text/plain": [
       "'plt.subplot(121) \\nplt.plot(vstd)  #每个周期内波动率\\nplt.subplot(122) \\nplt.plot(dicrate[0])  #周期内收益率\\nplt.show()'"
      ]
     },
     "execution_count": 186,
     "metadata": {},
     "output_type": "execute_result"
    }
   ],
   "source": [
    "vstd=np.zeros(len(fre)-1)\n",
    "pjrate=dicrate[0].mean() #平均收益率\n",
    "\n",
    "cerate=pjrate-cdrate500.values.T[0].mean() # 超额平均收益率\n",
    "\n",
    "ratestd=dicrate[0].std() # 标准差\n",
    "\n",
    "ceratestd=dicrate[0]-cdrate500.values.T[0]\n",
    "\n",
    "ceratestd=ceratestd.std() #超额标准差\n",
    "\n",
    "sharp=cerate/ceratestd #风险溢价\n",
    "\n",
    "for i in range(len(fre)-1):\n",
    "    vstd[i]=vrate.loc[fre[i+1]].std()\n",
    "\"\"\"plt.subplot(121) \n",
    "plt.plot(vstd)  #每个周期内波动率\n",
    "plt.subplot(122) \n",
    "plt.plot(dicrate[0])  #周期内收益率\n",
    "plt.show()\"\"\""
   ]
  },
  {
   "cell_type": "markdown",
   "metadata": {
    "collapsed": false
   },
   "source": [
    "# 显著性检验"
   ]
  },
  {
   "cell_type": "code",
   "execution_count": 187,
   "metadata": {
    "collapsed": false
   },
   "outputs": [],
   "source": [
    "t,p=stats.ttest_1samp(dicrate[0],cdrate500.values.T[0].mean())"
   ]
  },
  {
   "cell_type": "markdown",
   "metadata": {},
   "source": [
    "# 因子组收益率检验"
   ]
  },
  {
   "cell_type": "code",
   "execution_count": 188,
   "metadata": {
    "collapsed": false
   },
   "outputs": [],
   "source": [
    "evalueindex=['平均收益率','标准差','夏普比率','胜率','月胜率']\n",
    "evaluedata=[pjrate,ratestd,pjrate/ratestd,victory,victoryclc]\n",
    "result=pd.DataFrame({factorname:evaluedata},index=evalueindex).T"
   ]
  },
  {
   "cell_type": "markdown",
   "metadata": {},
   "source": [
    "# 因子显著性检验"
   ]
  },
  {
   "cell_type": "code",
   "execution_count": 189,
   "metadata": {
    "collapsed": false
   },
   "outputs": [],
   "source": [
    "findex=['超额平均收益率','超额标准差','信息比率','T','P','日胜率','月胜率','IC','IC_IR']\n",
    "frdata=[cerate,ceratestd,sharp,t,p,victory500,victoryclc500,ic.mean(),ic.mean()/ic.std()]\n",
    "result1=pd.DataFrame({factorname:frdata},index=findex).T"
   ]
  },
  {
   "cell_type": "markdown",
   "metadata": {},
   "source": [
    "#  资金走势图"
   ]
  },
  {
   "cell_type": "markdown",
   "metadata": {},
   "source": [
    "# 资金 费率（买入，卖出）"
   ]
  },
  {
   "cell_type": "code",
   "execution_count": 48,
   "metadata": {
    "collapsed": false
   },
   "outputs": [
    {
     "name": "stdout",
     "output_type": "stream",
     "text": [
      "10000000\n",
      "0.001\n",
      "0.001\n"
     ]
    }
   ],
   "source": [
    "money=input()\n",
    "feilvb=input()\n",
    "feilvs=input()"
   ]
  },
  {
   "cell_type": "code",
   "execution_count": 190,
   "metadata": {
    "collapsed": false
   },
   "outputs": [],
   "source": [
    "money=float(money)\n",
    "feilvb=float(feilvb)\n",
    "feilvs=float(feilvs)\n",
    "for i in range(len(fre)-1):\n",
    "    price=errate1[dic[i+1][0]].loc[fre[i]]\n",
    "    price=price[len(price)-1:len(price)]\n",
    "    gromoney=np.floor(int(money)/len(dic[i+1][0]))\n",
    "    grostock=np.floor(gromoney/(price*100))*(price*100)\n",
    "    sparem=(money-round(grostock.T.sum().values[0]*float(feilvb),2))-grostock.T.sum().values[0]\n",
    "    uy=errate.loc[fre[i+1]]+1\n",
    "    uy=uy[dic[i+1][0]].cumprod().append(grostock)\n",
    "    uy[0:len(uy)-1]=uy[0:len(uy)-1]*uy.max()\n",
    "    ret=copy.deepcopy((uy.T.sum()+sparem)[0:len(uy)-1]/money)\n",
    "    ret[len(ret)-1:len(ret)]=(ret[len(ret)-1:len(ret)]*money-(ret[len(ret)-1:len(ret)]*money-sparem)*feilvs)/money\n",
    "    uy500=(errate500.loc[fre[i+1]]+1).cumprod()\n",
    "    #uy500[0:1]=uy500[0:1]-feilvb\n",
    "    #uy500[len(uy500)-1:len(uy500)]=uy500[len(uy500)-1:len(uy500)]-feilvs\n",
    "    u500=copy.deepcopy(uy500)\n",
    "    u=copy.deepcopy(ret)\n",
    "    if i==0:\n",
    "        unitnet=copy.deepcopy(u)\n",
    "        unitnet500=copy.deepcopy(u500)\n",
    "    else:\n",
    "        u=u-1+unitnet[len(unitnet)-1:len(unitnet)].values[0]\n",
    "        u500=u500-1+unitnet500[len(unitnet500)-1:len(unitnet500)].values[0]\n",
    "        unitnet=unitnet.append(u)\n",
    "        unitnet500=unitnet500.append(u500)\n",
    "unitnet.index=data.index[-len(unitnet.index):]\n",
    "unitnet500.index=data.index[-len(unitnet500.index):]"
   ]
  },
  {
   "cell_type": "markdown",
   "metadata": {},
   "source": [
    "# 每期因子值"
   ]
  },
  {
   "cell_type": "code",
   "execution_count": 191,
   "metadata": {
    "collapsed": true
   },
   "outputs": [],
   "source": [
    "groupdata={}\n",
    "for i in range(len(fre)-1):\n",
    "    w=data0[dic[i+1][0]].loc[fre[i+1]]\n",
    "    w=w[len(w)-1:len(w)]\n",
    "    value0=copy.deepcopy(w.values[0])\n",
    "    vindex0=copy.deepcopy(w.T.index)\n",
    "    if i==0:\n",
    "        value=copy.deepcopy(value0)\n",
    "        vindex=copy.deepcopy(vindex0)\n",
    "        gindex=np.ones(len(value0))\n",
    "    else:\n",
    "        value=np.hstack([value,value0])\n",
    "        vindex=vindex.append(vindex0)\n",
    "        gindex=np.hstack([gindex,(i+1)*np.ones(len(value0))])\n",
    "factor_result=pd.DataFrame({factorname:value,'期数':gindex},index=vindex)"
   ]
  },
  {
   "cell_type": "markdown",
   "metadata": {},
   "source": [
    "# 结果展示"
   ]
  },
  {
   "cell_type": "markdown",
   "metadata": {},
   "source": [
    "# 每期因子"
   ]
  },
  {
   "cell_type": "code",
   "execution_count": 58,
   "metadata": {
    "collapsed": true
   },
   "outputs": [
    {
     "data": {
      "text/html": [
       "<div>\n",
       "<table border=\"1\" class=\"dataframe\">\n",
       "  <thead>\n",
       "    <tr style=\"text-align: right;\">\n",
       "      <th></th>\n",
       "      <th>成交量</th>\n",
       "      <th>期数</th>\n",
       "    </tr>\n",
       "  </thead>\n",
       "  <tbody>\n",
       "    <tr>\n",
       "      <th>今世缘</th>\n",
       "      <td>2227365.0</td>\n",
       "      <td>1.0</td>\n",
       "    </tr>\n",
       "    <tr>\n",
       "      <th>木林森</th>\n",
       "      <td>2081346.0</td>\n",
       "      <td>1.0</td>\n",
       "    </tr>\n",
       "    <tr>\n",
       "      <th>南京新百</th>\n",
       "      <td>16535673.0</td>\n",
       "      <td>1.0</td>\n",
       "    </tr>\n",
       "    <tr>\n",
       "      <th>贵人鸟</th>\n",
       "      <td>2128967.0</td>\n",
       "      <td>1.0</td>\n",
       "    </tr>\n",
       "    <tr>\n",
       "      <th>豪迈科技</th>\n",
       "      <td>2733406.0</td>\n",
       "      <td>1.0</td>\n",
       "    </tr>\n",
       "    <tr>\n",
       "      <th>莱克电气</th>\n",
       "      <td>1315788.0</td>\n",
       "      <td>1.0</td>\n",
       "    </tr>\n",
       "    <tr>\n",
       "      <th>珍宝岛</th>\n",
       "      <td>0.0</td>\n",
       "      <td>1.0</td>\n",
       "    </tr>\n",
       "    <tr>\n",
       "      <th>华东电脑</th>\n",
       "      <td>4660823.0</td>\n",
       "      <td>1.0</td>\n",
       "    </tr>\n",
       "    <tr>\n",
       "      <th>航天工程</th>\n",
       "      <td>2613713.0</td>\n",
       "      <td>1.0</td>\n",
       "    </tr>\n",
       "    <tr>\n",
       "      <th>长春高新</th>\n",
       "      <td>2008289.0</td>\n",
       "      <td>1.0</td>\n",
       "    </tr>\n",
       "    <tr>\n",
       "      <th>台海核电</th>\n",
       "      <td>1521203.0</td>\n",
       "      <td>1.0</td>\n",
       "    </tr>\n",
       "    <tr>\n",
       "      <th>青岛啤酒</th>\n",
       "      <td>3356561.0</td>\n",
       "      <td>1.0</td>\n",
       "    </tr>\n",
       "    <tr>\n",
       "      <th>索菲亚</th>\n",
       "      <td>2936844.0</td>\n",
       "      <td>1.0</td>\n",
       "    </tr>\n",
       "    <tr>\n",
       "      <th>智飞生物</th>\n",
       "      <td>3709134.0</td>\n",
       "      <td>1.0</td>\n",
       "    </tr>\n",
       "    <tr>\n",
       "      <th>老百姓</th>\n",
       "      <td>2082228.0</td>\n",
       "      <td>1.0</td>\n",
       "    </tr>\n",
       "    <tr>\n",
       "      <th>天神娱乐</th>\n",
       "      <td>0.0</td>\n",
       "      <td>1.0</td>\n",
       "    </tr>\n",
       "    <tr>\n",
       "      <th>焦点科技</th>\n",
       "      <td>3354676.0</td>\n",
       "      <td>1.0</td>\n",
       "    </tr>\n",
       "    <tr>\n",
       "      <th>新华医疗</th>\n",
       "      <td>4675960.0</td>\n",
       "      <td>1.0</td>\n",
       "    </tr>\n",
       "    <tr>\n",
       "      <th>老板电器</th>\n",
       "      <td>4998784.0</td>\n",
       "      <td>1.0</td>\n",
       "    </tr>\n",
       "    <tr>\n",
       "      <th>依顿电子</th>\n",
       "      <td>4097453.0</td>\n",
       "      <td>1.0</td>\n",
       "    </tr>\n",
       "    <tr>\n",
       "      <th>迎驾贡酒</th>\n",
       "      <td>4060985.0</td>\n",
       "      <td>1.0</td>\n",
       "    </tr>\n",
       "    <tr>\n",
       "      <th>青青稞酒</th>\n",
       "      <td>3186543.0</td>\n",
       "      <td>1.0</td>\n",
       "    </tr>\n",
       "    <tr>\n",
       "      <th>古井贡酒</th>\n",
       "      <td>3304833.0</td>\n",
       "      <td>1.0</td>\n",
       "    </tr>\n",
       "    <tr>\n",
       "      <th>口子窖</th>\n",
       "      <td>2941015.0</td>\n",
       "      <td>1.0</td>\n",
       "    </tr>\n",
       "    <tr>\n",
       "      <th>瑞康医药</th>\n",
       "      <td>4138479.0</td>\n",
       "      <td>1.0</td>\n",
       "    </tr>\n",
       "    <tr>\n",
       "      <th>片仔癀</th>\n",
       "      <td>2613354.0</td>\n",
       "      <td>1.0</td>\n",
       "    </tr>\n",
       "    <tr>\n",
       "      <th>史丹利</th>\n",
       "      <td>2266585.0</td>\n",
       "      <td>1.0</td>\n",
       "    </tr>\n",
       "    <tr>\n",
       "      <th>瑞茂通</th>\n",
       "      <td>4783465.0</td>\n",
       "      <td>1.0</td>\n",
       "    </tr>\n",
       "    <tr>\n",
       "      <th>张  裕Ａ</th>\n",
       "      <td>2653258.0</td>\n",
       "      <td>1.0</td>\n",
       "    </tr>\n",
       "    <tr>\n",
       "      <th>伟明环保</th>\n",
       "      <td>3592325.0</td>\n",
       "      <td>1.0</td>\n",
       "    </tr>\n",
       "    <tr>\n",
       "      <th>...</th>\n",
       "      <td>...</td>\n",
       "      <td>...</td>\n",
       "    </tr>\n",
       "    <tr>\n",
       "      <th>瑞康医药</th>\n",
       "      <td>3576892.0</td>\n",
       "      <td>11.0</td>\n",
       "    </tr>\n",
       "    <tr>\n",
       "      <th>天神娱乐</th>\n",
       "      <td>1931298.0</td>\n",
       "      <td>11.0</td>\n",
       "    </tr>\n",
       "    <tr>\n",
       "      <th>索菲亚</th>\n",
       "      <td>2076240.0</td>\n",
       "      <td>11.0</td>\n",
       "    </tr>\n",
       "    <tr>\n",
       "      <th>双鹭药业</th>\n",
       "      <td>1777727.0</td>\n",
       "      <td>11.0</td>\n",
       "    </tr>\n",
       "    <tr>\n",
       "      <th>兴源环境</th>\n",
       "      <td>2872142.0</td>\n",
       "      <td>11.0</td>\n",
       "    </tr>\n",
       "    <tr>\n",
       "      <th>张  裕Ａ</th>\n",
       "      <td>1641885.0</td>\n",
       "      <td>11.0</td>\n",
       "    </tr>\n",
       "    <tr>\n",
       "      <th>光电股份</th>\n",
       "      <td>1740268.0</td>\n",
       "      <td>11.0</td>\n",
       "    </tr>\n",
       "    <tr>\n",
       "      <th>拓普集团</th>\n",
       "      <td>3291996.0</td>\n",
       "      <td>11.0</td>\n",
       "    </tr>\n",
       "    <tr>\n",
       "      <th>贵人鸟</th>\n",
       "      <td>0.0</td>\n",
       "      <td>11.0</td>\n",
       "    </tr>\n",
       "    <tr>\n",
       "      <th>新华医疗</th>\n",
       "      <td>3595251.0</td>\n",
       "      <td>11.0</td>\n",
       "    </tr>\n",
       "    <tr>\n",
       "      <th>法拉电子</th>\n",
       "      <td>1908689.0</td>\n",
       "      <td>11.0</td>\n",
       "    </tr>\n",
       "    <tr>\n",
       "      <th>青岛啤酒</th>\n",
       "      <td>1655151.0</td>\n",
       "      <td>11.0</td>\n",
       "    </tr>\n",
       "    <tr>\n",
       "      <th>光迅科技</th>\n",
       "      <td>3651350.0</td>\n",
       "      <td>11.0</td>\n",
       "    </tr>\n",
       "    <tr>\n",
       "      <th>九鼎投资</th>\n",
       "      <td>1665517.0</td>\n",
       "      <td>11.0</td>\n",
       "    </tr>\n",
       "    <tr>\n",
       "      <th>长春高新</th>\n",
       "      <td>1579347.0</td>\n",
       "      <td>11.0</td>\n",
       "    </tr>\n",
       "    <tr>\n",
       "      <th>国药股份</th>\n",
       "      <td>3261095.0</td>\n",
       "      <td>11.0</td>\n",
       "    </tr>\n",
       "    <tr>\n",
       "      <th>博实股份</th>\n",
       "      <td>989808.0</td>\n",
       "      <td>11.0</td>\n",
       "    </tr>\n",
       "    <tr>\n",
       "      <th>视觉中国</th>\n",
       "      <td>1579602.0</td>\n",
       "      <td>11.0</td>\n",
       "    </tr>\n",
       "    <tr>\n",
       "      <th>华东电脑</th>\n",
       "      <td>654096.0</td>\n",
       "      <td>11.0</td>\n",
       "    </tr>\n",
       "    <tr>\n",
       "      <th>未名医药</th>\n",
       "      <td>2141813.0</td>\n",
       "      <td>11.0</td>\n",
       "    </tr>\n",
       "    <tr>\n",
       "      <th>台海核电</th>\n",
       "      <td>1973677.0</td>\n",
       "      <td>11.0</td>\n",
       "    </tr>\n",
       "    <tr>\n",
       "      <th>鱼跃医疗</th>\n",
       "      <td>1492830.0</td>\n",
       "      <td>11.0</td>\n",
       "    </tr>\n",
       "    <tr>\n",
       "      <th>依顿电子</th>\n",
       "      <td>1837843.0</td>\n",
       "      <td>11.0</td>\n",
       "    </tr>\n",
       "    <tr>\n",
       "      <th>中航光电</th>\n",
       "      <td>4518325.0</td>\n",
       "      <td>11.0</td>\n",
       "    </tr>\n",
       "    <tr>\n",
       "      <th>康缘药业</th>\n",
       "      <td>2269566.0</td>\n",
       "      <td>11.0</td>\n",
       "    </tr>\n",
       "    <tr>\n",
       "      <th>东山精密</th>\n",
       "      <td>8841413.0</td>\n",
       "      <td>11.0</td>\n",
       "    </tr>\n",
       "    <tr>\n",
       "      <th>江中药业</th>\n",
       "      <td>2253135.0</td>\n",
       "      <td>11.0</td>\n",
       "    </tr>\n",
       "    <tr>\n",
       "      <th>青青稞酒</th>\n",
       "      <td>2123730.0</td>\n",
       "      <td>11.0</td>\n",
       "    </tr>\n",
       "    <tr>\n",
       "      <th>开山股份</th>\n",
       "      <td>10470812.0</td>\n",
       "      <td>11.0</td>\n",
       "    </tr>\n",
       "    <tr>\n",
       "      <th>美锦能源</th>\n",
       "      <td>4879593.0</td>\n",
       "      <td>11.0</td>\n",
       "    </tr>\n",
       "  </tbody>\n",
       "</table>\n",
       "<p>516 rows × 2 columns</p>\n",
       "</div>"
      ],
      "text/plain": [
       "              成交量    期数\n",
       "今世缘     2227365.0   1.0\n",
       "木林森     2081346.0   1.0\n",
       "南京新百   16535673.0   1.0\n",
       "贵人鸟     2128967.0   1.0\n",
       "豪迈科技    2733406.0   1.0\n",
       "莱克电气    1315788.0   1.0\n",
       "珍宝岛           0.0   1.0\n",
       "华东电脑    4660823.0   1.0\n",
       "航天工程    2613713.0   1.0\n",
       "长春高新    2008289.0   1.0\n",
       "台海核电    1521203.0   1.0\n",
       "青岛啤酒    3356561.0   1.0\n",
       "索菲亚     2936844.0   1.0\n",
       "智飞生物    3709134.0   1.0\n",
       "老百姓     2082228.0   1.0\n",
       "天神娱乐          0.0   1.0\n",
       "焦点科技    3354676.0   1.0\n",
       "新华医疗    4675960.0   1.0\n",
       "老板电器    4998784.0   1.0\n",
       "依顿电子    4097453.0   1.0\n",
       "迎驾贡酒    4060985.0   1.0\n",
       "青青稞酒    3186543.0   1.0\n",
       "古井贡酒    3304833.0   1.0\n",
       "口子窖     2941015.0   1.0\n",
       "瑞康医药    4138479.0   1.0\n",
       "片仔癀     2613354.0   1.0\n",
       "史丹利     2266585.0   1.0\n",
       "瑞茂通     4783465.0   1.0\n",
       "张  裕Ａ   2653258.0   1.0\n",
       "伟明环保    3592325.0   1.0\n",
       "...           ...   ...\n",
       "瑞康医药    3576892.0  11.0\n",
       "天神娱乐    1931298.0  11.0\n",
       "索菲亚     2076240.0  11.0\n",
       "双鹭药业    1777727.0  11.0\n",
       "兴源环境    2872142.0  11.0\n",
       "张  裕Ａ   1641885.0  11.0\n",
       "光电股份    1740268.0  11.0\n",
       "拓普集团    3291996.0  11.0\n",
       "贵人鸟           0.0  11.0\n",
       "新华医疗    3595251.0  11.0\n",
       "法拉电子    1908689.0  11.0\n",
       "青岛啤酒    1655151.0  11.0\n",
       "光迅科技    3651350.0  11.0\n",
       "九鼎投资    1665517.0  11.0\n",
       "长春高新    1579347.0  11.0\n",
       "国药股份    3261095.0  11.0\n",
       "博实股份     989808.0  11.0\n",
       "视觉中国    1579602.0  11.0\n",
       "华东电脑     654096.0  11.0\n",
       "未名医药    2141813.0  11.0\n",
       "台海核电    1973677.0  11.0\n",
       "鱼跃医疗    1492830.0  11.0\n",
       "依顿电子    1837843.0  11.0\n",
       "中航光电    4518325.0  11.0\n",
       "康缘药业    2269566.0  11.0\n",
       "东山精密    8841413.0  11.0\n",
       "江中药业    2253135.0  11.0\n",
       "青青稞酒    2123730.0  11.0\n",
       "开山股份   10470812.0  11.0\n",
       "美锦能源    4879593.0  11.0\n",
       "\n",
       "[516 rows x 2 columns]"
      ]
     },
     "execution_count": 58,
     "metadata": {},
     "output_type": "execute_result"
    }
   ],
   "source": [
    "factor_result"
   ]
  },
  {
   "cell_type": "markdown",
   "metadata": {},
   "source": [
    "# 因子单调性检验"
   ]
  },
  {
   "cell_type": "code",
   "execution_count": 192,
   "metadata": {
    "collapsed": false,
    "scrolled": true
   },
   "outputs": [
    {
     "data": {
      "image/png": "[encoded data removed]",
      "text/plain": [
       "<matplotlib.figure.Figure at 0x294ff629978>"
      ]
     },
     "metadata": {},
     "output_type": "display_data"
    }
   ],
   "source": [
    "plt.subplot(121)\n",
    "plt.bar(num,grorate0, color = 'b')\n",
    "plt.subplot(122)\n",
    "plt.bar(num1,grorate500, color = 'b')\n",
    "plt.show()"
   ]
  },
  {
   "cell_type": "code",
   "execution_count": 37,
   "metadata": {
    "collapsed": true
   },
   "outputs": [
    {
     "data": {
      "text/plain": [
       "-0.00086880428355691659"
      ]
     },
     "execution_count": 37,
     "metadata": {},
     "output_type": "execute_result"
    }
   ],
   "source": []
  },
  {
   "cell_type": "markdown",
   "metadata": {},
   "source": [
    "# IC图"
   ]
  },
  {
   "cell_type": "code",
   "execution_count": 193,
   "metadata": {
    "collapsed": false
   },
   "outputs": [
    {
     "data": {
      "image/png": "[encoded data removed]",
      "text/plain": [
       "<matplotlib.figure.Figure at 0x294feaeb5f8>"
      ]
     },
     "metadata": {},
     "output_type": "display_data"
    }
   ],
   "source": [
    "plt.subplot(131)\n",
    "num2=np.arange(len(ic))\n",
    "plt.bar(num2,ic) #排序ic\n",
    "plt.subplot(132)\n",
    "plt.bar(num2,ic500) #数值IC\n",
    "plt.subplot(133)\n",
    "plt.bar(num2,icde) #第一期第一组IC的延续变化\n",
    "plt.show()"
   ]
  },
  {
   "cell_type": "markdown",
   "metadata": {},
   "source": [
    "# 因子组收益率检验"
   ]
  },
  {
   "cell_type": "code",
   "execution_count": 194,
   "metadata": {
    "collapsed": false
   },
   "outputs": [
    {
     "data": {
      "text/html": [
       "<div>\n",
       "<table border=\"1\" class=\"dataframe\">\n",
       "  <thead>\n",
       "    <tr style=\"text-align: right;\">\n",
       "      <th></th>\n",
       "      <th>平均收益率</th>\n",
       "      <th>标准差</th>\n",
       "      <th>夏普比率</th>\n",
       "      <th>胜率</th>\n",
       "      <th>月胜率</th>\n",
       "    </tr>\n",
       "  </thead>\n",
       "  <tbody>\n",
       "    <tr>\n",
       "      <th>成交量</th>\n",
       "      <td>0.017023</td>\n",
       "      <td>0.06003</td>\n",
       "      <td>0.283583</td>\n",
       "      <td>0.549107</td>\n",
       "      <td>0.454545</td>\n",
       "    </tr>\n",
       "  </tbody>\n",
       "</table>\n",
       "</div>"
      ],
      "text/plain": [
       "        平均收益率      标准差      夏普比率        胜率       月胜率\n",
       "成交量  0.017023  0.06003  0.283583  0.549107  0.454545"
      ]
     },
     "execution_count": 194,
     "metadata": {},
     "output_type": "execute_result"
    }
   ],
   "source": [
    "result"
   ]
  },
  {
   "cell_type": "markdown",
   "metadata": {},
   "source": [
    "# 因子显著性检验"
   ]
  },
  {
   "cell_type": "code",
   "execution_count": 195,
   "metadata": {
    "collapsed": false,
    "scrolled": false
   },
   "outputs": [
    {
     "data": {
      "text/html": [
       "<div>\n",
       "<table border=\"1\" class=\"dataframe\">\n",
       "  <thead>\n",
       "    <tr style=\"text-align: right;\">\n",
       "      <th></th>\n",
       "      <th>超额平均收益率</th>\n",
       "      <th>超额标准差</th>\n",
       "      <th>信息比率</th>\n",
       "      <th>T</th>\n",
       "      <th>P</th>\n",
       "      <th>日胜率</th>\n",
       "      <th>月胜率</th>\n",
       "      <th>IC</th>\n",
       "      <th>IC_IR</th>\n",
       "    </tr>\n",
       "  </thead>\n",
       "  <tbody>\n",
       "    <tr>\n",
       "      <th>成交量</th>\n",
       "      <td>0.003427</td>\n",
       "      <td>0.022773</td>\n",
       "      <td>0.150475</td>\n",
       "      <td>0.180521</td>\n",
       "      <td>0.86035</td>\n",
       "      <td>0.553571</td>\n",
       "      <td>0.727273</td>\n",
       "      <td>-0.067662</td>\n",
       "      <td>-0.319441</td>\n",
       "    </tr>\n",
       "  </tbody>\n",
       "</table>\n",
       "</div>"
      ],
      "text/plain": [
       "      超额平均收益率     超额标准差      信息比率         T        P       日胜率       月胜率  \\\n",
       "成交量  0.003427  0.022773  0.150475  0.180521  0.86035  0.553571  0.727273   \n",
       "\n",
       "           IC     IC_IR  \n",
       "成交量 -0.067662 -0.319441  "
      ]
     },
     "execution_count": 195,
     "metadata": {},
     "output_type": "execute_result"
    }
   ],
   "source": [
    "result1"
   ]
  },
  {
   "cell_type": "markdown",
   "metadata": {},
   "source": [
    "# 周期收益率图"
   ]
  },
  {
   "cell_type": "code",
   "execution_count": 196,
   "metadata": {
    "collapsed": false
   },
   "outputs": [
    {
     "data": {
      "image/png": "[encoded data removed]",
      "text/plain": [
       "<matplotlib.figure.Figure at 0x294ff6020f0>"
      ]
     },
     "metadata": {},
     "output_type": "display_data"
    }
   ],
   "source": [
    "num01=np.arange(len(dicrate[0]))\n",
    "plt.bar(num01,dicrate[0])\n",
    "plt.show()"
   ]
  },
  {
   "cell_type": "markdown",
   "metadata": {},
   "source": [
    "#  单位净值走势图"
   ]
  },
  {
   "cell_type": "code",
   "execution_count": 197,
   "metadata": {
    "collapsed": false
   },
   "outputs": [
    {
     "data": {
      "image/png": "[encoded data removed]",
      "text/plain": [
       "<matplotlib.figure.Figure at 0x294ff4cd4a8>"
      ]
     },
     "metadata": {},
     "output_type": "display_data"
    }
   ],
   "source": [
    "plt.plot(unitnet.values,label='factor')\n",
    "plt.plot(unitnet500.values,label='500')\n",
    "plt.legend(loc=0, numpoints=1)\n",
    "plt.show()"
   ]
  },
  {
   "cell_type": "markdown",
   "metadata": {},
   "source": [
    "# 超额净值走势图"
   ]
  },
  {
   "cell_type": "code",
   "execution_count": 198,
   "metadata": {
    "collapsed": false,
    "scrolled": true
   },
   "outputs": [
    {
     "data": {
      "image/png": "[encoded data removed]",
      "text/plain": [
       "<matplotlib.figure.Figure at 0x294ff4cdda0>"
      ]
     },
     "metadata": {},
     "output_type": "display_data"
    }
   ],
   "source": [
    "plt.plot(unitnet.values-unitnet500.values.T[0])\n",
    "plt.show()"
   ]
  },
  {
   "cell_type": "code",
   "execution_count": 199,
   "metadata": {
    "collapsed": true
   },
   "outputs": [],
   "source": [
    "if  ind==0:\n",
    "    result0=copy.deepcopy(result)\n",
    "else:\n",
    "    result0=result0.append(result)"
   ]
  },
  {
   "cell_type": "code",
   "execution_count": 200,
   "metadata": {
    "collapsed": true
   },
   "outputs": [],
   "source": [
    "if  ind==0:\n",
    "    result01=copy.deepcopy(result1)\n",
    "else:\n",
    "    result01=result01.append(result1)"
   ]
  },
  {
   "cell_type": "code",
   "execution_count": 201,
   "metadata": {
    "collapsed": true
   },
   "outputs": [],
   "source": [
    "ind=1"
   ]
  },
  {
   "cell_type": "code",
   "execution_count": 202,
   "metadata": {
    "collapsed": false
   },
   "outputs": [
    {
     "data": {
      "text/html": [
       "<div>\n",
       "<table border=\"1\" class=\"dataframe\">\n",
       "  <thead>\n",
       "    <tr style=\"text-align: right;\">\n",
       "      <th></th>\n",
       "      <th>平均收益率</th>\n",
       "      <th>标准差</th>\n",
       "      <th>夏普比率</th>\n",
       "      <th>胜率</th>\n",
       "      <th>月胜率</th>\n",
       "    </tr>\n",
       "  </thead>\n",
       "  <tbody>\n",
       "    <tr>\n",
       "      <th>成交量</th>\n",
       "      <td>0.017023</td>\n",
       "      <td>0.06003</td>\n",
       "      <td>0.283583</td>\n",
       "      <td>0.549107</td>\n",
       "      <td>0.454545</td>\n",
       "    </tr>\n",
       "  </tbody>\n",
       "</table>\n",
       "</div>"
      ],
      "text/plain": [
       "        平均收益率      标准差      夏普比率        胜率       月胜率\n",
       "成交量  0.017023  0.06003  0.283583  0.549107  0.454545"
      ]
     },
     "execution_count": 202,
     "metadata": {},
     "output_type": "execute_result"
    }
   ],
   "source": [
    "result0"
   ]
  },
  {
   "cell_type": "code",
   "execution_count": 203,
   "metadata": {
    "collapsed": false
   },
   "outputs": [
    {
     "data": {
      "text/html": [
       "<div>\n",
       "<table border=\"1\" class=\"dataframe\">\n",
       "  <thead>\n",
       "    <tr style=\"text-align: right;\">\n",
       "      <th></th>\n",
       "      <th>超额平均收益率</th>\n",
       "      <th>超额标准差</th>\n",
       "      <th>信息比率</th>\n",
       "      <th>T</th>\n",
       "      <th>P</th>\n",
       "      <th>日胜率</th>\n",
       "      <th>月胜率</th>\n",
       "      <th>IC</th>\n",
       "      <th>IC_IR</th>\n",
       "    </tr>\n",
       "  </thead>\n",
       "  <tbody>\n",
       "    <tr>\n",
       "      <th>成交量</th>\n",
       "      <td>0.003427</td>\n",
       "      <td>0.022773</td>\n",
       "      <td>0.150475</td>\n",
       "      <td>0.180521</td>\n",
       "      <td>0.86035</td>\n",
       "      <td>0.553571</td>\n",
       "      <td>0.727273</td>\n",
       "      <td>-0.067662</td>\n",
       "      <td>-0.319441</td>\n",
       "    </tr>\n",
       "  </tbody>\n",
       "</table>\n",
       "</div>"
      ],
      "text/plain": [
       "      超额平均收益率     超额标准差      信息比率         T        P       日胜率       月胜率  \\\n",
       "成交量  0.003427  0.022773  0.150475  0.180521  0.86035  0.553571  0.727273   \n",
       "\n",
       "           IC     IC_IR  \n",
       "成交量 -0.067662 -0.319441  "
      ]
     },
     "execution_count": 203,
     "metadata": {},
     "output_type": "execute_result"
    }
   ],
   "source": [
    "result01"
   ]
  },
  {
   "cell_type": "code",
   "execution_count": null,
   "metadata": {
    "collapsed": true
   },
   "outputs": [],
   "source": []
  }
 ],
 "metadata": {
  "anaconda-cloud": {},
  "kernelspec": {
   "display_name": "Python [conda root]",
   "language": "python",
   "name": "conda-root-py"
  },
  "language_info": {
   "codemirror_mode": {
    "name": "ipython",
    "version": 3
   },
   "file_extension": ".py",
   "mimetype": "text/x-python",
   "name": "python",
   "nbconvert_exporter": "python",
   "pygments_lexer": "ipython3",
   "version": "3.5.2"
  }
 },
 "nbformat": 4,
 "nbformat_minor": 1
}
